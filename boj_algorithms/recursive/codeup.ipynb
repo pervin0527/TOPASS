{
 "cells": [
  {
   "cell_type": "code",
   "execution_count": null,
   "metadata": {},
   "outputs": [],
   "source": [
    "\"\"\"\n",
    "https://codeup.kr/problem.php?id=1901\n",
    "\"\"\"\n",
    "\n",
    "def func(x, t=1):\n",
    "    print(t)\n",
    "    if t == x:\n",
    "        return\n",
    "    \n",
    "    return func(x, t+1)\n",
    "\n",
    "n = int(input())\n",
    "func(n, 1)"
   ]
  },
  {
   "cell_type": "code",
   "execution_count": 1,
   "metadata": {},
   "outputs": [
    {
     "name": "stdout",
     "output_type": "stream",
     "text": [
      "10\n",
      "9\n",
      "8\n",
      "7\n",
      "6\n",
      "5\n",
      "4\n",
      "3\n",
      "2\n",
      "1\n"
     ]
    }
   ],
   "source": [
    "\"\"\"\n",
    "https://codeup.kr/problem.php?id=1902\n",
    "\"\"\"\n",
    "\n",
    "def func(x):\n",
    "    print(x)\n",
    "    if x == 1:\n",
    "        return\n",
    "    \n",
    "    return func(x-1)\n",
    "\n",
    "n = int(input())\n",
    "func(n)"
   ]
  },
  {
   "cell_type": "code",
   "execution_count": 3,
   "metadata": {},
   "outputs": [
    {
     "name": "stdout",
     "output_type": "stream",
     "text": [
      "3 5 7 "
     ]
    }
   ],
   "source": [
    "\"\"\"\n",
    "https://codeup.kr/problem.php?id=1904\n",
    "\"\"\"\n",
    "def func(n, m):\n",
    "    if n > m:\n",
    "        return\n",
    "\n",
    "    if n % 2 == 1:\n",
    "        print(n, end=\" \")\n",
    "\n",
    "    func(n+1, m)\n",
    "    \n",
    "\n",
    "a, b = map(int, input().split())\n",
    "func(a, b)"
   ]
  },
  {
   "cell_type": "code",
   "execution_count": 11,
   "metadata": {},
   "outputs": [
    {
     "name": "stdout",
     "output_type": "stream",
     "text": [
      "761995\n"
     ]
    }
   ],
   "source": [
    "\"\"\"\n",
    "https://codeup.kr/problem.php?id=1905\n",
    "\"\"\"\n",
    "\n",
    "def func(n):\n",
    "    if n == 1:\n",
    "        return 1\n",
    "    return n + func(n-1)\n",
    "\n",
    "n = int(input())\n",
    "print(func(n))"
   ]
  },
  {
   "cell_type": "code",
   "execution_count": 6,
   "metadata": {},
   "outputs": [
    {
     "data": {
      "text/plain": [
       "120"
      ]
     },
     "execution_count": 6,
     "metadata": {},
     "output_type": "execute_result"
    }
   ],
   "source": [
    "\"\"\"\n",
    "https://codeup.kr/problem.php?id=1912\n",
    "\"\"\"\n",
    "\n",
    "def func(n):\n",
    "    if n == 1:\n",
    "        return 1\n",
    "    return n * func(n-1)\n",
    "\n",
    "n = int(input())\n",
    "print(func(n))"
   ]
  },
  {
   "cell_type": "code",
   "execution_count": null,
   "metadata": {},
   "outputs": [],
   "source": []
  }
 ],
 "metadata": {
  "kernelspec": {
   "display_name": "base",
   "language": "python",
   "name": "python3"
  },
  "language_info": {
   "codemirror_mode": {
    "name": "ipython",
    "version": 3
   },
   "file_extension": ".py",
   "mimetype": "text/x-python",
   "name": "python",
   "nbconvert_exporter": "python",
   "pygments_lexer": "ipython3",
   "version": "3.9.13"
  }
 },
 "nbformat": 4,
 "nbformat_minor": 2
}
