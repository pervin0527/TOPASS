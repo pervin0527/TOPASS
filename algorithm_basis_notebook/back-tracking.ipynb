{
 "cells": [
  {
   "cell_type": "code",
   "execution_count": 39,
   "metadata": {},
   "outputs": [
    {
     "name": "stdout",
     "output_type": "stream",
     "text": [
      "1 2 3 \n",
      "1 2 4 \n",
      "1 3 2 \n",
      "1 3 4 \n",
      "1 4 2 \n",
      "1 4 3 \n",
      "2 1 3 \n",
      "2 1 4 \n",
      "2 3 1 \n",
      "2 3 4 \n",
      "2 4 1 \n",
      "2 4 3 \n",
      "3 1 2 \n",
      "3 1 4 \n",
      "3 2 1 \n",
      "3 2 4 \n",
      "3 4 1 \n",
      "3 4 2 \n",
      "4 1 2 \n",
      "4 1 3 \n",
      "4 2 1 \n",
      "4 2 3 \n",
      "4 3 1 \n",
      "4 3 2 \n"
     ]
    }
   ],
   "source": [
    "\"\"\"\n",
    "https://www.acmicpc.net/problem/15649\n",
    "\"\"\"\n",
    "\n",
    "def func(k): ## 현재 k개까지의 수를 택한 상황에서 arr[k]를 정하는 함수.\n",
    "    \"\"\"\n",
    "    맨 처음에는 아무런 수도 선택하지 않았으니 func(0)을 호출.\n",
    "    func(0)은 arr[0]의 원소를 결정한 후에 func(1)을 호출.\n",
    "    \"\"\"\n",
    "\n",
    "    ## Base condition. k가 m과 같으면 m개의 수를 모두 고른 상태이므로 종료.\n",
    "    if k == m:\n",
    "        for v in arr:\n",
    "            print(v, end=\" \")\n",
    "        print()\n",
    "        return\n",
    "    \n",
    "    ## 백트래킹의 핵심 부분. \n",
    "    ## 1부터 n까지의 수를 차례대로 확인하며 아직 사용되지 않은 수를 찾아낸다.\n",
    "    for i in range(n):\n",
    "        if isused[i] == False:\n",
    "            arr[k] = i+1\n",
    "            isused[i] = True\n",
    "            func(k+1)\n",
    "            isused[i] = False ## arr[k] = 0으로 하지 않는 이유는 어차피 다른 값으로 덮어쓰여지기 때문.\n",
    "\n",
    "\n",
    "n, m = map(int, input().split())\n",
    "arr, isused = [0] * m, [False] * n ## isused는 현재 상태에서 사용한 원소를 기록하기 위함.\n",
    "\n",
    "func(0)"
   ]
  },
  {
   "cell_type": "code",
   "execution_count": 41,
   "metadata": {},
   "outputs": [
    {
     "name": "stdout",
     "output_type": "stream",
     "text": [
      "92\n"
     ]
    }
   ],
   "source": [
    "\"\"\"\n",
    "https://www.acmicpc.net/problem/9663\n",
    "\"\"\"\n",
    "\n",
    "## func(0)을 호출해 0번째 행에 퀸을 배치한다.\n",
    "## func(0)은 func(1)을 호출해 1번째 행에 퀸을 배치한다.\n",
    "## func(n)까지 도달했다면, 모든 행에 퀸을 배치할 수 있으므로 count + 1\n",
    "## 특정 좌표에 퀸을 어떻게 둘 것인가?\n",
    "\n",
    "def func(cur):\n",
    "    global count\n",
    "    if cur == n:\n",
    "        count += 1\n",
    "        return\n",
    "    \n",
    "    for i in range(n):\n",
    "        if isused1[i] or isused2[i+cur] or isused3[cur-i+n-1]:\n",
    "            continue\n",
    "        isused1[i] = True\n",
    "        isused2[i+cur] = True\n",
    "        isused3[cur-i+n-1] = True\n",
    "        func(cur+1)\n",
    "        isused1[i] = False\n",
    "        isused2[i+cur] = False\n",
    "        isused3[cur-i+n-1] = False\n",
    "\n",
    "\n",
    "n = int(input())\n",
    "\n",
    "count = 0\n",
    "isused1 = [False] * n ## column에 대응되는 값. (x, y)에 퀸이 있으면 isused1[y]=True\n",
    "isused2 = [False] * (2*n) ## 좌측 하단과 우측 상단을 연결하는 대각선. (x, y)에 퀸이 있으면 isused2[x+y]=True\n",
    "isused3 = [False] * (2*n) ## 좌측 상단과 우측 하단을 연결하는 대각선. (x, y)에 퀸이 있으면 isused3[x-y+n-1]=True\n",
    "\n",
    "func(0)\n",
    "print(count)"
   ]
  },
  {
   "cell_type": "code",
   "execution_count": null,
   "metadata": {},
   "outputs": [],
   "source": [
    "\"\"\"\n",
    "https://www.acmicpc.net/problem/1182\n",
    "\"\"\"\n",
    "\n",
    "n, s = int(map, input().split())\n"
   ]
  }
 ],
 "metadata": {
  "kernelspec": {
   "display_name": "base",
   "language": "python",
   "name": "python3"
  },
  "language_info": {
   "codemirror_mode": {
    "name": "ipython",
    "version": 3
   },
   "file_extension": ".py",
   "mimetype": "text/x-python",
   "name": "python",
   "nbconvert_exporter": "python",
   "pygments_lexer": "ipython3",
   "version": "3.9.13"
  }
 },
 "nbformat": 4,
 "nbformat_minor": 2
}
