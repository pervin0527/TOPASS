{
 "cells": [
  {
   "cell_type": "code",
   "execution_count": 8,
   "metadata": {},
   "outputs": [
    {
     "name": "stdout",
     "output_type": "stream",
     "text": [
      "((0, 0)) -> ((0, 1)) -> ((0, 2)) -> ((1, 2)) -> ((2, 2)) -> ((2, 1)) -> ((2, 0)) -> ((3, 0)) -> ((3, 1)) -> ((4, 1)) -> ((1, 0)) -> "
     ]
    }
   ],
   "source": [
    "board = [\n",
    "    [1, 1, 1, 0, 1, 0, 0, 0, 0, 0],\n",
    "    [1, 0, 1, 0, 1, 0, 0, 0, 0, 0],\n",
    "    [1, 1, 1, 0, 1, 0, 0, 0, 0, 0],\n",
    "    [1, 1, 0, 0, 1, 0, 0, 0, 0, 0],\n",
    "    [0, 1, 0, 0, 0, 0, 0, 0, 0, 0],\n",
    "    [0, 0, 0, 0, 0, 0, 0, 0, 0, 0],\n",
    "    [0, 0, 0, 0, 0, 0, 0, 0, 0, 0]\n",
    "]\n",
    "\n",
    "N, M = len(board), len(board[0])\n",
    "vis = [[False] * M for _ in range(N)]\n",
    "\n",
    "stack = []\n",
    "stack.append((0, 0))\n",
    "vis[0][0] = True\n",
    "\n",
    "dx = [-1, 1, 0, 0]\n",
    "dy = [0, 0, -1, 1]\n",
    "while stack:\n",
    "    x, y = stack.pop()\n",
    "    print(f\"({x, y}) ->\", end=\" \")\n",
    "\n",
    "    for idx in range(4):\n",
    "        nx = x + dx[idx]\n",
    "        ny = y + dy[idx]\n",
    "\n",
    "        if nx < 0 or ny < 0 or nx >= N or ny >= M:\n",
    "            continue\n",
    "        if board[nx][ny] != 1 or vis[nx][ny]:\n",
    "            continue\n",
    "\n",
    "        stack.append((nx, ny))\n",
    "        vis[nx][ny] = True"
   ]
  },
  {
   "cell_type": "code",
   "execution_count": null,
   "metadata": {},
   "outputs": [],
   "source": []
  }
 ],
 "metadata": {
  "kernelspec": {
   "display_name": "base",
   "language": "python",
   "name": "python3"
  },
  "language_info": {
   "codemirror_mode": {
    "name": "ipython",
    "version": 3
   },
   "file_extension": ".py",
   "mimetype": "text/x-python",
   "name": "python",
   "nbconvert_exporter": "python",
   "pygments_lexer": "ipython3",
   "version": "3.9.13"
  }
 },
 "nbformat": 4,
 "nbformat_minor": 2
}
