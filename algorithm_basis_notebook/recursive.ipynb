{
 "cells": [
  {
   "cell_type": "code",
   "execution_count": 25,
   "metadata": {},
   "outputs": [
    {
     "name": "stdout",
     "output_type": "stream",
     "text": [
      "6\n"
     ]
    }
   ],
   "source": [
    "n = int(input())\n",
    "\n",
    "def func(n):\n",
    "    if n == 1:\n",
    "        return 1\n",
    "    \n",
    "    return n * func(n-1)\n",
    "\n",
    "print(func(n))"
   ]
  },
  {
   "cell_type": "code",
   "execution_count": 32,
   "metadata": {},
   "outputs": [
    {
     "name": "stdout",
     "output_type": "stream",
     "text": [
      "13\n"
     ]
    }
   ],
   "source": [
    "n = int(input())\n",
    "\n",
    "def func(n):\n",
    "    if n < 3:\n",
    "        return 1\n",
    "    else:\n",
    "        return func(n-1) + func(n-2)\n",
    "\n",
    "print(func(n))"
   ]
  },
  {
   "cell_type": "code",
   "execution_count": null,
   "metadata": {},
   "outputs": [],
   "source": [
    "def func(a, b, c):\n",
    "    if b == 1:\n",
    "        return a % c\n",
    "    \n",
    "    curr = func(a, b//2, c)\n",
    "    if b % 2 == 0:\n",
    "        return (curr * curr) % c\n",
    "    else:\n",
    "        return (curr * curr * a) % c"
   ]
  },
  {
   "cell_type": "code",
   "execution_count": null,
   "metadata": {},
   "outputs": [],
   "source": [
    "def func(a, b, c): ## 10, 2, 12\n",
    "    if b == 1: ## b는 2이므로, False\n",
    "        return a % c\n",
    "    \n",
    "    curr = func(a, b//2, c) ## 10, 2, 12\n",
    "    if b % 2 == 0:\n",
    "        return (curr * curr) % c\n",
    "    else:\n",
    "        return (curr * curr * a) % c"
   ]
  },
  {
   "cell_type": "code",
   "execution_count": null,
   "metadata": {},
   "outputs": [],
   "source": [
    "def func(a, b, c): ## 10, 1, 12\n",
    "    if b == 1: ## b는 1이므로, True\n",
    "        return a % c ## a % c 반환\n",
    "    \n",
    "    curr = func(a, b//2, c) ## 10, 2, 12\n",
    "    if b % 2 == 0:\n",
    "        return (curr * curr) % c\n",
    "    else:\n",
    "        return (curr * curr * a) % c"
   ]
  },
  {
   "cell_type": "code",
   "execution_count": 20,
   "metadata": {},
   "outputs": [
    {
     "name": "stdout",
     "output_type": "stream",
     "text": [
      "***************************\n",
      "* ** ** ** ** ** ** ** ** *\n",
      "***************************\n",
      "***   ******   ******   ***\n",
      "* *   * ** *   * ** *   * *\n",
      "***   ******   ******   ***\n",
      "***************************\n",
      "* ** ** ** ** ** ** ** ** *\n",
      "***************************\n",
      "*********         *********\n",
      "* ** ** *         * ** ** *\n",
      "*********         *********\n",
      "***   ***         ***   ***\n",
      "* *   * *         * *   * *\n",
      "***   ***         ***   ***\n",
      "*********         *********\n",
      "* ** ** *         * ** ** *\n",
      "*********         *********\n",
      "***************************\n",
      "* ** ** ** ** ** ** ** ** *\n",
      "***************************\n",
      "***   ******   ******   ***\n",
      "* *   * ** *   * ** *   * *\n",
      "***   ******   ******   ***\n",
      "***************************\n",
      "* ** ** ** ** ** ** ** ** *\n",
      "***************************\n"
     ]
    }
   ],
   "source": [
    "def print_stars(n, x, y):\n",
    "    # 기본 단계: n이 3일 때의 패턴 출력\n",
    "    if n == 1:\n",
    "        board[y][x] = '*'\n",
    "        return\n",
    "    \n",
    "    # n을 3으로 나누어 각 구역별로 재귀 호출\n",
    "    div = n // 3\n",
    "    for dy in range(3):\n",
    "        for dx in range(3):\n",
    "            # 가운데 구역은 공백 처리\n",
    "            if dy == 1 and dx == 1:\n",
    "                continue\n",
    "            print_stars(div, x + dx * div, y + dy * div)\n",
    "\n",
    "N = int(input())\n",
    "board = [[' ' for _ in range(N)] for _ in range(N)]\n",
    "\n",
    "print_stars(N, 0, 0)\n",
    "\n",
    "for row in board:\n",
    "    print(''.join(row))\n"
   ]
  },
  {
   "cell_type": "code",
   "execution_count": null,
   "metadata": {},
   "outputs": [],
   "source": [
    "\"\"\"\n",
    "https://www.acmicpc.net/problem/11729\n",
    "\"\"\"\n",
    "\n",
    "def func(a, b, n): ## 현재 기둥, 이동할 기둥, 이동할 원판의 수\n",
    "    if n == 1:\n",
    "        print(a, b)\n",
    "        return\n",
    "    func(a, 6 - a - b, n - 1)\n",
    "    print(a, b)\n",
    "    func(6 - a - b, b, n - 1)\n",
    "\n",
    "\n",
    "k = int(input(\"Enter the value of k: \"))\n",
    "print((2 ** k) - 1)\n",
    "func(1, 3, k)"
   ]
  },
  {
   "cell_type": "code",
   "execution_count": 38,
   "metadata": {},
   "outputs": [
    {
     "name": "stdout",
     "output_type": "stream",
     "text": [
      "7\n",
      "1 3\n",
      "1 2 ...\n",
      "3 2\n",
      "1 3 ...\n",
      "2 1\n",
      "2 3 ...\n",
      "1 3\n"
     ]
    }
   ],
   "source": [
    "\"\"\"\n",
    "https://www.acmicpc.net/problem/11729\n",
    "\"\"\"\n",
    "\n",
    "def hanoi_func(n, a, b):\n",
    "    if n == 1:\n",
    "        print(a, b)\n",
    "        return\n",
    "    \n",
    "    hanoi_func(n - 1, a, 6 - a - b)\n",
    "    print(a, b)\n",
    "    hanoi_func(n - 1, 6 - a - b, b)\n",
    "\n",
    "n = int(input())\n",
    "print((2 ** n) - 1)\n",
    "hanoi_func(n, 1, 3)"
   ]
  },
  {
   "cell_type": "code",
   "execution_count": null,
   "metadata": {},
   "outputs": [],
   "source": []
  }
 ],
 "metadata": {
  "kernelspec": {
   "display_name": "base",
   "language": "python",
   "name": "python3"
  },
  "language_info": {
   "codemirror_mode": {
    "name": "ipython",
    "version": 3
   },
   "file_extension": ".py",
   "mimetype": "text/x-python",
   "name": "python",
   "nbconvert_exporter": "python",
   "pygments_lexer": "ipython3",
   "version": "3.9.13"
  }
 },
 "nbformat": 4,
 "nbformat_minor": 2
}
