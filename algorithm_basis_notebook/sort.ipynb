{
 "cells": [
  {
   "cell_type": "code",
   "execution_count": 10,
   "metadata": {},
   "outputs": [
    {
     "name": "stdout",
     "output_type": "stream",
     "text": [
      "[9, 1, 6, 8, 4, 3, 2, 0]\n",
      "[0, 1, 6, 8, 4, 3, 2, 9]\n",
      "[0, 1, 6, 8, 4, 3, 2, 9]\n",
      "[0, 1, 2, 8, 4, 3, 6, 9]\n",
      "[0, 1, 2, 3, 4, 8, 6, 9]\n",
      "[0, 1, 2, 3, 4, 8, 6, 9]\n",
      "[0, 1, 2, 3, 4, 6, 8, 9]\n",
      "[0, 1, 2, 3, 4, 6, 8, 9]\n"
     ]
    }
   ],
   "source": [
    "\"\"\"\n",
    "selection sort\n",
    "\"\"\"\n",
    "\n",
    "arr = [9, 1, 6, 8, 4, 3, 2, 0]\n",
    "\n",
    "for i in range(len(arr)):\n",
    "    print(arr)\n",
    "    min_idx = i ## i번째 자리 원소를 결정해야함.\n",
    "    for j in range(i+1, len(arr)): ## 나머지(i+1 ~ N) 원소들을 비교하며 최소 원소를 찾음.\n",
    "        if arr[min_idx] > arr[j]:\n",
    "            min_idx = j\n",
    "    arr[i], arr[min_idx] = arr[min_idx], arr[i]"
   ]
  },
  {
   "cell_type": "code",
   "execution_count": 9,
   "metadata": {},
   "outputs": [
    {
     "name": "stdout",
     "output_type": "stream",
     "text": [
      "[7, 2, 0, 1, 5, 6, 4]\n",
      "[2, 0, 1, 5, 6, 4, 7]\n",
      "[0, 1, 2, 5, 4, 6, 7]\n",
      "[0, 1, 2, 4, 5, 6, 7]\n",
      "[0, 1, 2, 4, 5, 6, 7]\n",
      "[0, 1, 2, 4, 5, 6, 7]\n",
      "[0, 1, 2, 4, 5, 6, 7]\n"
     ]
    }
   ],
   "source": [
    "\"\"\"\n",
    "Bubble sort\n",
    "\"\"\"\n",
    "\n",
    "arr = [7, 2, 0, 1, 5, 6, 4]\n",
    "# arr = [2, 13, 6, 4, -2]\n",
    "\n",
    "for i in range(len(arr)):\n",
    "    print(arr)\n",
    "    for start in range(len(arr)-1-i): ## i가 증가할 때마다 i개의 원소가 정렬되었으므로 -1-i로 순회 횟수를 감소.\n",
    "        end = start + 1\n",
    "        if arr[start] > arr[end]:\n",
    "            arr[start], arr[end] = arr[end], arr[start]"
   ]
  },
  {
   "cell_type": "code",
   "execution_count": 8,
   "metadata": {},
   "outputs": [
    {
     "name": "stdout",
     "output_type": "stream",
     "text": [
      "[31, 25, 12, 22, 11]\n",
      "[25, 31, 12, 22, 11]\n",
      "[12, 25, 31, 22, 11]\n",
      "[12, 22, 25, 31, 11]\n"
     ]
    }
   ],
   "source": [
    "\"\"\"\n",
    "Insertion sort\n",
    "\"\"\"\n",
    "\n",
    "arr = [31, 25, 12, 22, 11]\n",
    "\n",
    "for i in range(1, len(arr)):\n",
    "    print(arr)\n",
    "    for j in range(len(arr[:i])):\n",
    "        if arr[j] > arr[i]:\n",
    "            arr[i], arr[j] = arr[j], arr[i]"
   ]
  },
  {
   "cell_type": "code",
   "execution_count": 8,
   "metadata": {},
   "outputs": [
    {
     "name": "stdout",
     "output_type": "stream",
     "text": [
      "1 4 7 "
     ]
    }
   ],
   "source": [
    "## 병합 정렬(merge sort)\n",
    "from collections import deque\n",
    "\n",
    "# n, m = 4, 3\n",
    "# a = deque([2, 3, 5, 9])\n",
    "# b = deque([1, 4, 7])\n",
    "\n",
    "n, m = map(int, input().split())\n",
    "a = deque(list(map(int, input().split())))\n",
    "b = deque(list(map(int, input().split())))\n",
    "\n",
    "result = [0] * (len(a) + len(b))\n",
    "for i in range(len(result)): ## 각각의 iteration마다 반드시 result[i]가 채워짐.\n",
    "    if a and b:\n",
    "        if a[0] > b[0]:\n",
    "            result[i] = b.popleft()\n",
    "        else:\n",
    "            result[i] = a.popleft()\n",
    "\n",
    "    else: ## a, b 중에서 병합 중 가진 원소가 0이 되는 경우 원소가 남은 리스트의 원소들을 차례대로 대입한다.\n",
    "        if not a:\n",
    "            result[i] = b.popleft()\n",
    "        elif not b:\n",
    "            result[i] = a.popleft()\n",
    "\n",
    "for v in result:\n",
    "    print(v, end=\" \")"
   ]
  },
  {
   "cell_type": "code",
   "execution_count": null,
   "metadata": {},
   "outputs": [],
   "source": [
    "\"\"\"\n",
    "Merge Sort\n",
    "\"\"\"\n",
    "\n",
    "n = 10\n",
    "arr = [15, 25, 22, 357, 16, 23, -53, 12, 46, 3]\n",
    "tmp = [0] * 1000001  # merge 함수에서 사용할 임시 배열\n",
    "\n",
    "def merge(st, en):\n",
    "    mid = (st + en) // 2\n",
    "    lidx, ridx = st, mid\n",
    "    for i in range(st, en):\n",
    "        if ridx == en:\n",
    "            tmp[i] = arr[lidx]\n",
    "            lidx += 1\n",
    "        elif lidx == mid:\n",
    "            tmp[i] = arr[ridx]\n",
    "            ridx += 1\n",
    "        elif arr[lidx] <= arr[ridx]:\n",
    "            tmp[i] = arr[lidx]\n",
    "            lidx += 1\n",
    "        else:\n",
    "            tmp[i] = arr[ridx]\n",
    "            ridx += 1\n",
    "    for i in range(st, en):\n",
    "        arr[i] = tmp[i]  # 임시 배열에 저장된 값을 원래 배열로 복사\n",
    "\n",
    "def merge_sort(st, en):\n",
    "    if en == st + 1:  # 배열의 길이가 1이면 정렬하지 않고 반환\n",
    "        return\n",
    "    mid = (st + en) // 2\n",
    "    merge_sort(st, mid)  # 왼쪽 부분 배열 정렬\n",
    "    merge_sort(mid, en)  # 오른쪽 부분 배열 정렬\n",
    "    merge(st, en)  # 두 부분 배열을 합치면서 정렬\n",
    "\n",
    "# 병합 정렬 실행\n",
    "merge_sort(0, n)\n",
    "\n",
    "# 정렬된 배열 출력\n",
    "for i in range(n):\n",
    "    print(arr[i], end=' ')"
   ]
  }
 ],
 "metadata": {
  "kernelspec": {
   "display_name": "base",
   "language": "python",
   "name": "python3"
  },
  "language_info": {
   "codemirror_mode": {
    "name": "ipython",
    "version": 3
   },
   "file_extension": ".py",
   "mimetype": "text/x-python",
   "name": "python",
   "nbconvert_exporter": "python",
   "pygments_lexer": "ipython3",
   "version": "3.9.13"
  }
 },
 "nbformat": 4,
 "nbformat_minor": 2
}
