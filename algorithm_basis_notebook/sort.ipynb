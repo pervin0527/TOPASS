{
 "cells": [
  {
   "cell_type": "code",
   "execution_count": null,
   "metadata": {},
   "outputs": [],
   "source": [
    "## 선택 정렬(selection sort)\n",
    "arr = [9, 1, 6, 8, 4, 3, 2, 0]\n",
    "\n",
    "for i in range(len(arr)):\n",
    "    min_idx = i\n",
    "    ## 최소값 탐색.\n",
    "    for j in range(i+1, len(arr)):\n",
    "        if arr[min_idx] > arr[j]:\n",
    "            min_idx = j\n",
    "    \n",
    "    ## 원소간 위치 전환.    \n",
    "    arr[i], arr[min_idx] = arr[min_idx], arr[i]\n",
    "\n",
    "print(arr)"
   ]
  },
  {
   "cell_type": "code",
   "execution_count": 1,
   "metadata": {},
   "outputs": [
    {
     "name": "stdout",
     "output_type": "stream",
     "text": [
      "[-2, 2, 4, 6, 13]\n"
     ]
    }
   ],
   "source": [
    "## 버블 정렬(bubble sort)\n",
    "arr = [2, 13, 6, 4, -2]\n",
    "\n",
    "start_idx = 0\n",
    "end_idx = 1\n",
    "\n",
    "for i in range(len(arr)):\n",
    "    for j in range(len(arr)-1-i):\n",
    "        if arr[j] > arr[j+1]:\n",
    "            arr[j], arr[j+1] = arr[j+1], arr[j]\n",
    "\n",
    "print(arr)"
   ]
  },
  {
   "cell_type": "code",
   "execution_count": 8,
   "metadata": {},
   "outputs": [
    {
     "name": "stdout",
     "output_type": "stream",
     "text": [
      "1 4 7 "
     ]
    }
   ],
   "source": [
    "## 병합 정렬(merge sort)\n",
    "from collections import deque\n",
    "\n",
    "# n, m = 4, 3\n",
    "# a = deque([2, 3, 5, 9])\n",
    "# b = deque([1, 4, 7])\n",
    "\n",
    "n, m = map(int, input().split())\n",
    "a = deque(list(map(int, input().split())))\n",
    "b = deque(list(map(int, input().split())))\n",
    "\n",
    "result = [0] * (len(a) + len(b))\n",
    "for i in range(len(result)): ## 각각의 iteration마다 반드시 result[i]가 채워짐.\n",
    "    if a and b:\n",
    "        if a[0] > b[0]:\n",
    "            result[i] = b.popleft()\n",
    "        else:\n",
    "            result[i] = a.popleft()\n",
    "\n",
    "    else: ## a, b 중에서 병합 중 가진 원소가 0이 되는 경우 원소가 남은 리스트의 원소들을 차례대로 대입한다.\n",
    "        if not a:\n",
    "            result[i] = b.popleft()\n",
    "        elif not b:\n",
    "            result[i] = a.popleft()\n",
    "\n",
    "for v in result:\n",
    "    print(v, end=\" \")"
   ]
  },
  {
   "cell_type": "code",
   "execution_count": null,
   "metadata": {},
   "outputs": [],
   "source": [
    "## merge sort Standard\n",
    "\n",
    "def merge(arr, tmp, st, en):\n",
    "    mid = (st + en) // 2\n",
    "    lidx, ridx = st, mid\n",
    "    for i in range(st, en):\n",
    "        if ridx == en:\n",
    "            tmp[i] = arr[lidx]\n",
    "            lidx += 1\n",
    "        elif lidx == mid:\n",
    "            tmp[i] = arr[ridx]\n",
    "            ridx += 1\n",
    "        elif arr[lidx] <= arr[ridx]:\n",
    "            tmp[i] = arr[lidx]\n",
    "            lidx += 1\n",
    "        else:\n",
    "            tmp[i] = arr[ridx]\n",
    "            ridx += 1\n",
    "    for i in range(st, en):\n",
    "        arr[i] = tmp[i]\n",
    "\n",
    "def merge_sort(arr, tmp, st, en):\n",
    "    if en - st == 1:\n",
    "        return\n",
    "    mid = (st + en) // 2\n",
    "    merge_sort(arr, tmp, st, mid)\n",
    "    merge_sort(arr, tmp, mid, en)\n",
    "    merge(arr, tmp, st, en)\n",
    "\n",
    "def main():\n",
    "    n = int(input())\n",
    "    arr = [0] * n\n",
    "    tmp = [0] * n\n",
    "    for i in range(n):\n",
    "        arr[i] = int(input())\n",
    "    merge_sort(arr, tmp, 0, n)\n",
    "    for i in range(n):\n",
    "        print(arr[i])\n",
    "\n",
    "if __name__ == \"__main__\":\n",
    "    main()"
   ]
  }
 ],
 "metadata": {
  "kernelspec": {
   "display_name": "base",
   "language": "python",
   "name": "python3"
  },
  "language_info": {
   "codemirror_mode": {
    "name": "ipython",
    "version": 3
   },
   "file_extension": ".py",
   "mimetype": "text/x-python",
   "name": "python",
   "nbconvert_exporter": "python",
   "pygments_lexer": "ipython3",
   "version": "3.9.0"
  }
 },
 "nbformat": 4,
 "nbformat_minor": 2
}
