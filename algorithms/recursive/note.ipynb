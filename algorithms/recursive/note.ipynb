{
 "cells": [
  {
   "cell_type": "code",
   "execution_count": 2,
   "metadata": {},
   "outputs": [
    {
     "name": "stdout",
     "output_type": "stream",
     "text": [
      "4\n"
     ]
    }
   ],
   "source": [
    "def func(a, b, c):\n",
    "    if b == 1:\n",
    "        return a % c\n",
    "    \n",
    "    curr = func(a, b//2, c)\n",
    "    if b % 2 == 0:\n",
    "        return (curr * curr) % c\n",
    "    else:\n",
    "        return (curr * curr * a) % c"
   ]
  },
  {
   "cell_type": "code",
   "execution_count": null,
   "metadata": {},
   "outputs": [],
   "source": [
    "def func(a, b, c): ## 10, 2, 12\n",
    "    if b == 1: ## b는 2이므로, False\n",
    "        return a % c\n",
    "    \n",
    "    curr = func(a, b//2, c) ## 10, 2, 12\n",
    "    if b % 2 == 0:\n",
    "        return (curr * curr) % c\n",
    "    else:\n",
    "        return (curr * curr * a) % c"
   ]
  },
  {
   "cell_type": "code",
   "execution_count": null,
   "metadata": {},
   "outputs": [],
   "source": [
    "def func(a, b, c): ## 10, 1, 12\n",
    "    if b == 1: ## b는 1이므로, True\n",
    "        return a % c ## a % c 반환\n",
    "    \n",
    "    curr = func(a, b//2, c) ## 10, 2, 12\n",
    "    if b % 2 == 0:\n",
    "        return (curr * curr) % c\n",
    "    else:\n",
    "        return (curr * curr * a) % c"
   ]
  },
  {
   "cell_type": "code",
   "execution_count": 4,
   "metadata": {},
   "outputs": [
    {
     "name": "stdout",
     "output_type": "stream",
     "text": [
      "7\n",
      "1 3\n",
      "1 2\n",
      "3 2\n",
      "1 3\n",
      "2 1\n",
      "2 3\n",
      "1 3\n"
     ]
    }
   ],
   "source": [
    "\"\"\"\n",
    "https://www.acmicpc.net/problem/11729\n",
    "\"\"\"\n",
    "\n",
    "def func(a, b, n): ## 현재 기둥, 이동할 기둥, 이동할 원판의 수\n",
    "    if n == 1:\n",
    "        print(a, b)\n",
    "        return\n",
    "    func(a, 6 - a - b, n - 1)\n",
    "    print(a, b)\n",
    "    func(6 - a - b, b, n - 1)\n",
    "\n",
    "\n",
    "k = int(input(\"Enter the value of k: \"))\n",
    "print((2 ** k) - 1)\n",
    "func(1, 3, k)"
   ]
  },
  {
   "cell_type": "code",
   "execution_count": null,
   "metadata": {},
   "outputs": [],
   "source": []
  }
 ],
 "metadata": {
  "kernelspec": {
   "display_name": "base",
   "language": "python",
   "name": "python3"
  },
  "language_info": {
   "codemirror_mode": {
    "name": "ipython",
    "version": 3
   },
   "file_extension": ".py",
   "mimetype": "text/x-python",
   "name": "python",
   "nbconvert_exporter": "python",
   "pygments_lexer": "ipython3",
   "version": "3.9.13"
  }
 },
 "nbformat": 4,
 "nbformat_minor": 2
}
