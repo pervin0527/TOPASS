{
 "cells": [
  {
   "cell_type": "code",
   "execution_count": null,
   "metadata": {},
   "outputs": [],
   "source": [
    "\"\"\"\n",
    "리스트를 사용한 스택\n",
    "\"\"\"\n",
    "\n",
    "stack = []\n",
    "stack.append(5) # 가장 처음에 삽입된 데이터가 가장 마지막에 나갈 수 있다.\n",
    "stack.append(2)\n",
    "stack.append(3)\n",
    "\n",
    "stack.append(7) # 가장 나중에 삽입된 데이터가 가장 먼저 나갈 수 있다.\n",
    "stack.pop()"
   ]
  },
  {
   "cell_type": "code",
   "execution_count": 3,
   "metadata": {},
   "outputs": [
    {
     "name": "stdout",
     "output_type": "stream",
     "text": [
      "[5, 2, 3, 7]\n",
      "7\n",
      "[5, 2, 3]\n",
      "3\n"
     ]
    }
   ],
   "source": [
    "\"\"\"\n",
    "class를 이용한 스택\n",
    "\"\"\"\n",
    "\n",
    "class Stack():\n",
    "    def __init__(self):\n",
    "        self.stack = []\n",
    "        self.pos = 0\n",
    "\n",
    "    def push(self, x):\n",
    "        self.stack.insert(self.pos, x)\n",
    "        self.pos += 1\n",
    "\n",
    "    def pop(self):\n",
    "        self.stack.pop(self.pos-1)\n",
    "\n",
    "    def top(self):\n",
    "        print(self.stack[-1])\n",
    "        \n",
    "\n",
    "stack = Stack()\n",
    "stack.push(5)\n",
    "stack.push(2)\n",
    "stack.push(3)\n",
    "stack.push(7)\n",
    "\n",
    "print(stack.stack)\n",
    "stack.top()\n",
    "\n",
    "stack.pop()\n",
    "print(stack.stack)\n",
    "stack.top()"
   ]
  },
  {
   "cell_type": "code",
   "execution_count": null,
   "metadata": {},
   "outputs": [],
   "source": []
  }
 ],
 "metadata": {
  "kernelspec": {
   "display_name": "base",
   "language": "python",
   "name": "python3"
  },
  "language_info": {
   "codemirror_mode": {
    "name": "ipython",
    "version": 3
   },
   "file_extension": ".py",
   "mimetype": "text/x-python",
   "name": "python",
   "nbconvert_exporter": "python",
   "pygments_lexer": "ipython3",
   "version": "3.9.13"
  }
 },
 "nbformat": 4,
 "nbformat_minor": 2
}
