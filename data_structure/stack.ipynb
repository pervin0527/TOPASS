{
 "cells": [
  {
   "cell_type": "code",
   "execution_count": null,
   "metadata": {},
   "outputs": [],
   "source": [
    "\"\"\"\n",
    "https://www.acmicpc.net/problem/10828\n",
    "\n",
    "push X: 정수 X를 스택에 넣는 연산이다.\n",
    "pop: 스택에서 가장 위에 있는 정수를 빼고, 그 수를 출력한다. 만약 스택에 들어있는 정수가 없는 경우에는 -1을 출력한다.\n",
    "size: 스택에 들어있는 정수의 개수를 출력한다.\n",
    "empty: 스택이 비어있으면 1, 아니면 0을 출력한다.\n",
    "top: 스택의 가장 위에 있는 정수를 출력한다. 만약 스택에 들어있는 정수가 없는 경우에는 -1을 출력한다.\n",
    "\"\"\"\n",
    "\n",
    "stack = []\n",
    "N = int(input())\n",
    "commands = []\n",
    "for _ in range(N):\n",
    "    commands.append(input().split())\n",
    "\n",
    "for command in commands:\n",
    "    if command[0] == \"push\":\n",
    "        stack.append(command[1])\n",
    "\n",
    "    elif command[0] == \"pop\":\n",
    "        if len(stack) > 0:\n",
    "            print(stack.pop())\n",
    "        else:\n",
    "            print(-1)\n",
    "\n",
    "    elif command[0] == \"size\":\n",
    "        print(len(stack))\n",
    "\n",
    "    elif command[0] == \"empty\":\n",
    "        if len(stack) == 0:\n",
    "            print(1)\n",
    "        else:\n",
    "            print(0)\n",
    "\n",
    "    elif command[0] == \"top\":\n",
    "        if len(stack) > 0:\n",
    "            print(stack[-1])\n",
    "        else:\n",
    "            print(-1)"
   ]
  },
  {
   "cell_type": "code",
   "execution_count": null,
   "metadata": {},
   "outputs": [],
   "source": [
    "\"\"\"\n",
    "class를 이용한 스택\n",
    "\"\"\"\n",
    "\n",
    "class Stack():\n",
    "    def __init__(self):\n",
    "        self.stack = []\n",
    "    \n",
    "    def push(self, x):\n",
    "        self.stack.append(x)\n",
    "\n",
    "    def pop(self):\n",
    "        if len(self.stack) > 0:\n",
    "            print(self.stack.pop())\n",
    "        else:\n",
    "            print(-1)\n",
    "\n",
    "    def size(self):\n",
    "        print(len(self.stack))\n",
    "\n",
    "    def empty(self):\n",
    "        if len(self.stack) == 0:\n",
    "            print(1)\n",
    "        else:\n",
    "            print(0)\n",
    "\n",
    "    def top(self):\n",
    "        if len(self.stack) == 0:\n",
    "            print(-1)\n",
    "        else:\n",
    "            print(self.stack[-1])\n"
   ]
  },
  {
   "cell_type": "code",
   "execution_count": null,
   "metadata": {},
   "outputs": [],
   "source": []
  }
 ],
 "metadata": {
  "kernelspec": {
   "display_name": "base",
   "language": "python",
   "name": "python3"
  },
  "language_info": {
   "codemirror_mode": {
    "name": "ipython",
    "version": 3
   },
   "file_extension": ".py",
   "mimetype": "text/x-python",
   "name": "python",
   "nbconvert_exporter": "python",
   "pygments_lexer": "ipython3",
   "version": "3.9.13"
  }
 },
 "nbformat": 4,
 "nbformat_minor": 2
}
