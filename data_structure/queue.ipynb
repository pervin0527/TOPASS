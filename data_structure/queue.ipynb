{
 "cells": [
  {
   "cell_type": "code",
   "execution_count": 1,
   "metadata": {},
   "outputs": [
    {
     "name": "stdout",
     "output_type": "stream",
     "text": [
      "[5, 2, 3, 7]\n",
      "[2, 3, 7]\n",
      "2\n",
      "7\n"
     ]
    }
   ],
   "source": [
    "\"\"\"\n",
    "https://www.acmicpc.net/problem/10845\n",
    "\n",
    "push X: 정수 X를 큐에 넣는 연산이다.\n",
    "pop: 큐에서 가장 앞에 있는 정수를 빼고, 그 수를 출력한다. 만약 큐에 들어있는 정수가 없는 경우에는 -1을 출력한다.\n",
    "size: 큐에 들어있는 정수의 개수를 출력한다.\n",
    "empty: 큐가 비어있으면 1, 아니면 0을 출력한다.\n",
    "front: 큐의 가장 앞에 있는 정수를 출력한다. 만약 큐에 들어있는 정수가 없는 경우에는 -1을 출력한다.\n",
    "back: 큐의 가장 뒤에 있는 정수를 출력한다. 만약 큐에 들어있는 정수가 없는 경우에는 -1을 출력한다.\n",
    "\"\"\"\n",
    "\n",
    "import sys\n",
    "from collections import deque\n",
    "\n",
    "q = deque()\n",
    "N = int(sys.stdin.readline().rstrip())\n",
    "\n",
    "commands = []\n",
    "for _ in range(N):\n",
    "    commands.append(sys.stdin.readline().rstrip().split())\n",
    "\n",
    "for command in commands:\n",
    "    if command[0] == \"push\":\n",
    "        q.append(command[1])\n",
    "    \n",
    "    elif command[0] == \"pop\":\n",
    "        if len(q) > 0:\n",
    "            print(q.popleft())\n",
    "        else:\n",
    "            print(-1)\n",
    "\n",
    "    elif command[0] == \"size\":\n",
    "        print(len(q))\n",
    "\n",
    "    elif command[0] == \"empty\":\n",
    "        if len(q) == 0:\n",
    "            print(1)\n",
    "        else:\n",
    "            print(0)\n",
    "    \n",
    "    elif command[0] == \"front\":\n",
    "        if len(q) == 0:\n",
    "            print(-1)\n",
    "        else:\n",
    "            print(q[0])\n",
    "\n",
    "    elif command[0] == \"back\":\n",
    "        if len(q) == 0:\n",
    "            print(-1)\n",
    "        else:\n",
    "            print(q[-1])"
   ]
  },
  {
   "cell_type": "code",
   "execution_count": 4,
   "metadata": {},
   "outputs": [
    {
     "name": "stdout",
     "output_type": "stream",
     "text": [
      "[5, 2, 3, 7]\n",
      "[2, 3, 7]\n",
      "2\n",
      "7\n"
     ]
    }
   ],
   "source": [
    "\"\"\"\n",
    "collection 라이브러리의 deque 클래스\n",
    "\"\"\"\n",
    "from collections import deque\n",
    "\n",
    "queue = deque()\n",
    "\n",
    "queue.append(5) # push\n",
    "queue.append(2)\n",
    "queue.append(3)\n",
    "queue.append(7)\n",
    "print(list(queue))\n",
    "\n",
    "queue.popleft() # pop, 맨 앞에 있는 원소를 삭제.\n",
    "print(list(queue))\n",
    "\n",
    "print(queue[0]) # front\n",
    "print(queue[-1]) # back"
   ]
  }
 ],
 "metadata": {
  "kernelspec": {
   "display_name": "base",
   "language": "python",
   "name": "python3"
  },
  "language_info": {
   "codemirror_mode": {
    "name": "ipython",
    "version": 3
   },
   "file_extension": ".py",
   "mimetype": "text/x-python",
   "name": "python",
   "nbconvert_exporter": "python",
   "pygments_lexer": "ipython3",
   "version": "3.9.13"
  }
 },
 "nbformat": 4,
 "nbformat_minor": 2
}
