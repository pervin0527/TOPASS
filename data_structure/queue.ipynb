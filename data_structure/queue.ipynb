{
 "cells": [
  {
   "cell_type": "code",
   "execution_count": 1,
   "metadata": {},
   "outputs": [
    {
     "name": "stdout",
     "output_type": "stream",
     "text": [
      "[5, 2, 3, 7]\n",
      "[2, 3, 7]\n",
      "2\n",
      "7\n"
     ]
    }
   ],
   "source": [
    "\"\"\"\n",
    "리스트 타입 큐\n",
    "\"\"\"\n",
    "def push(x):\n",
    "    queue.append(x)\n",
    "\n",
    "def pop():\n",
    "    queue.pop(0)\n",
    "\n",
    "def front():\n",
    "    print(queue[0])\n",
    "\n",
    "def back():\n",
    "    print(queue[-1])\n",
    "\n",
    "queue = []\n",
    "push(5)\n",
    "push(2)\n",
    "push(3)\n",
    "push(7)\n",
    "print(queue)\n",
    "\n",
    "pop()\n",
    "print(queue)\n",
    "\n",
    "front()\n",
    "back()"
   ]
  },
  {
   "cell_type": "code",
   "execution_count": 4,
   "metadata": {},
   "outputs": [
    {
     "name": "stdout",
     "output_type": "stream",
     "text": [
      "[5, 2, 3, 7]\n",
      "[2, 3, 7]\n",
      "2\n",
      "7\n"
     ]
    }
   ],
   "source": [
    "\"\"\"\n",
    "collection 라이브러리의 deque 클래스\n",
    "\"\"\"\n",
    "from collections import deque\n",
    "\n",
    "queue = deque()\n",
    "\n",
    "queue.append(5) # push\n",
    "queue.append(2)\n",
    "queue.append(3)\n",
    "queue.append(7)\n",
    "print(list(queue))\n",
    "\n",
    "queue.popleft() # pop, 맨 앞에 있는 원소를 삭제.\n",
    "print(list(queue))\n",
    "\n",
    "print(queue[0]) # front\n",
    "print(queue[-1]) # back"
   ]
  },
  {
   "cell_type": "code",
   "execution_count": null,
   "metadata": {},
   "outputs": [],
   "source": []
  }
 ],
 "metadata": {
  "kernelspec": {
   "display_name": "base",
   "language": "python",
   "name": "python3"
  },
  "language_info": {
   "codemirror_mode": {
    "name": "ipython",
    "version": 3
   },
   "file_extension": ".py",
   "mimetype": "text/x-python",
   "name": "python",
   "nbconvert_exporter": "python",
   "pygments_lexer": "ipython3",
   "version": "3.9.13"
  }
 },
 "nbformat": 4,
 "nbformat_minor": 2
}
