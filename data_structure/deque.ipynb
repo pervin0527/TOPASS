{
 "cells": [
  {
   "cell_type": "code",
   "execution_count": 1,
   "metadata": {},
   "outputs": [],
   "source": [
    "from collections import deque\n",
    "dq = deque()"
   ]
  },
  {
   "cell_type": "code",
   "execution_count": 2,
   "metadata": {},
   "outputs": [],
   "source": [
    "def push_front(x):\n",
    "    dq.appendleft(x)\n",
    "\n",
    "def pop_front():\n",
    "    dq.popleft()\n",
    "\n",
    "def push_back(x):\n",
    "    dq.append(x)\n",
    "\n",
    "def pop_back():\n",
    "    dq.pop()"
   ]
  },
  {
   "cell_type": "code",
   "execution_count": 3,
   "metadata": {},
   "outputs": [
    {
     "name": "stdout",
     "output_type": "stream",
     "text": [
      "[7, 3, 2, 5]\n",
      "[7, 3, 2, 5, 5, 2, 3, 7]\n"
     ]
    }
   ],
   "source": [
    "push_front(5)\n",
    "push_front(2)\n",
    "push_front(3)\n",
    "push_front(7)\n",
    "\n",
    "print(list(dq))\n",
    "\n",
    "push_back(5)\n",
    "push_back(2)\n",
    "push_back(3)\n",
    "push_back(7)\n",
    "\n",
    "print(list(dq))"
   ]
  },
  {
   "cell_type": "code",
   "execution_count": 4,
   "metadata": {},
   "outputs": [
    {
     "name": "stdout",
     "output_type": "stream",
     "text": [
      "[3, 2, 5, 5, 2, 3, 7]\n",
      "[3, 2, 5, 5, 2]\n"
     ]
    }
   ],
   "source": [
    "pop_front()\n",
    "print(list(dq))\n",
    "\n",
    "pop_back()\n",
    "pop_back()\n",
    "print(list(dq))"
   ]
  },
  {
   "cell_type": "code",
   "execution_count": 5,
   "metadata": {},
   "outputs": [
    {
     "name": "stdout",
     "output_type": "stream",
     "text": [
      "3\n",
      "2\n"
     ]
    }
   ],
   "source": [
    "def front():\n",
    "    print(dq[0])\n",
    "\n",
    "def back():\n",
    "    print(dq[-1])\n",
    "\n",
    "front()\n",
    "back()"
   ]
  },
  {
   "cell_type": "code",
   "execution_count": null,
   "metadata": {},
   "outputs": [],
   "source": [
    "import sys\n",
    "from collections import deque\n",
    "\n",
    "dq = deque()\n",
    "N = int(input())\n",
    "commands = []\n",
    "for _ in range(N):\n",
    "    commands.append(sys.stdin.readline().rstrip().split())\n",
    "\n",
    "for command in commands:\n",
    "    if command[0] == \"push_front\":\n",
    "        dq.append(command[1])\n",
    "\n",
    "    elif command[0] == \"push_back\":\n",
    "        dq.appendleft(command[1])\n",
    "\n",
    "    elif command[0] == \"pop_front\":\n",
    "        if len(dq) > 0:\n",
    "            print(dq.pop())\n",
    "        else:\n",
    "            print(-1)\n",
    "\n",
    "    elif command[0] == \"pop_back\":\n",
    "        if len(dq) > 0:\n",
    "            print(dq.popleft())\n",
    "        else:\n",
    "            print(-1)\n",
    "\n",
    "    elif command[0] == \"size\":\n",
    "        print(len(dq))\n",
    "\n",
    "    elif command[0] == \"empty\":\n",
    "        if len(dq) == 0:\n",
    "            print(1)\n",
    "        else:\n",
    "            print(0)\n",
    "    \n",
    "    elif command[0] == \"front\":\n",
    "        if len(dq) > 0:\n",
    "            print(dq[-1])\n",
    "        else:\n",
    "            print(-1)\n",
    "\n",
    "    elif command[0] == \"back\":\n",
    "        if len(dq) > 0:\n",
    "            print(dq[0])\n",
    "        else:\n",
    "            print(-1)"
   ]
  }
 ],
 "metadata": {
  "kernelspec": {
   "display_name": "base",
   "language": "python",
   "name": "python3"
  },
  "language_info": {
   "codemirror_mode": {
    "name": "ipython",
    "version": 3
   },
   "file_extension": ".py",
   "mimetype": "text/x-python",
   "name": "python",
   "nbconvert_exporter": "python",
   "pygments_lexer": "ipython3",
   "version": "3.9.13"
  }
 },
 "nbformat": 4,
 "nbformat_minor": 2
}
