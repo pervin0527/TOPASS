{
 "cells": [
  {
   "cell_type": "code",
   "execution_count": 4,
   "metadata": {},
   "outputs": [
    {
     "name": "stdout",
     "output_type": "stream",
     "text": [
      "         ,r'\"7\n",
      "r`-_   ,'  ,/\n",
      " \\. \". L_r'\n",
      "   `~\\/\n",
      "      |\n",
      "      |\n"
     ]
    }
   ],
   "source": [
    "print(\"         ,r'\\\"7\")\n",
    "print(\"r`-_   ,'  ,/\")\n",
    "print(\" \\\\. \\\". L_r'\")\n",
    "print(\"   `~\\\\/\")\n",
    "print(\"      |\")\n",
    "print(\"      |\")\n"
   ]
  },
  {
   "cell_type": "markdown",
   "metadata": {},
   "source": [
    "### 문제\n",
    "동혁이는 오래된 창고를 뒤지다가 낡은 체스판과 피스를 발견했다.\n",
    "\n",
    "체스판의 먼지를 털어내고 걸레로 닦으니 그럭저럭 쓸만한 체스판이 되었다. 하지만, 검정색 피스는 모두 있었으나, 흰색 피스는 개수가 올바르지 않았다.\n",
    "\n",
    "체스는 총 16개의 피스를 사용하며, 킹 1개, 퀸 1개, 룩 2개, 비숍 2개, 나이트 2개, 폰 8개로 구성되어 있다.\n",
    "\n",
    "동혁이가 발견한 흰색 피스의 개수가 주어졌을 때, 몇 개를 더하거나 빼야 올바른 세트가 되는지 구하는 프로그램을 작성하시오.\n",
    "\n",
    "### 입력\n",
    "첫째 줄에 동혁이가 찾은 흰색 킹, 퀸, 룩, 비숍, 나이트, 폰의 개수가 주어진다. 이 값은 0보다 크거나 같고 10보다 작거나 같은 정수이다.\n",
    "\n",
    "### 출력\n",
    "첫째 줄에 입력에서 주어진 순서대로 몇 개의 피스를 더하거나 빼야 되는지를 출력한다. 만약 수가 양수라면 동혁이는 그 개수 만큼 피스를 더해야 하는 것이고, 음수라면 제거해야 하는 것이다.\n",
    "\n",
    "### 예제 입력 1 \n",
    "0 1 2 2 2 7\n",
    "### 예제 출력 1 \n",
    "1 0 0 0 0 1\n",
    "### 예제 입력 2 \n",
    "2 1 2 1 2 1\n",
    "### 예제 출력 2 \n",
    "-1 0 0 1 0 7"
   ]
  },
  {
   "cell_type": "code",
   "execution_count": 9,
   "metadata": {},
   "outputs": [
    {
     "name": "stdout",
     "output_type": "stream",
     "text": [
      "[1, 0, 0, 0, 0, 1]\n"
     ]
    }
   ],
   "source": [
    "## 킹 : 1, 퀸 : 1, 룩 : 2, 비숍 : 2, 나이트 : 2, 폰 8\n",
    "standard = [1, 1, 2, 2, 2, 8]\n",
    "my = list(map(int, input().split()))\n",
    "\n",
    "result = [(x - y) for (x, y) in zip(standard, my)]\n",
    "for r in result:\n",
    "    print(r, end=\" \")"
   ]
  },
  {
   "cell_type": "markdown",
   "metadata": {},
   "source": [
    "![img](./imgs/Day5-심화1-별찍기.png)"
   ]
  },
  {
   "cell_type": "code",
   "execution_count": 7,
   "metadata": {},
   "outputs": [
    {
     "name": "stdout",
     "output_type": "stream",
     "text": [
      "10\n",
      "9\n",
      "8\n",
      "7\n",
      "6\n",
      "5\n",
      "4\n",
      "3\n",
      "2\n"
     ]
    }
   ],
   "source": [
    "for i in range(10, 1, -1):\n",
    "    print(i)"
   ]
  },
  {
   "cell_type": "code",
   "execution_count": 9,
   "metadata": {},
   "outputs": [
    {
     "name": "stdout",
     "output_type": "stream",
     "text": [
      "    *\n",
      "   ***\n",
      "  *****\n",
      " *******\n",
      "*********\n",
      " *******\n",
      "  *****\n",
      "   ***\n",
      "    *\n"
     ]
    }
   ],
   "source": [
    "## 내가 만든 코드.\n",
    "## 2N-1열까지 출력해야한다. \n",
    "## N열까지는 증가, 나머지열부터는 감소.\n",
    "n_increase = int(input()) \n",
    "n_decrease = (2 * (n_increase) - 1) - n_increase\n",
    "\n",
    "## 문자열 길이는 2N-1\n",
    "line = \"\"\n",
    "for i in range(1, n_increase+1):\n",
    "    star = \"*\" * (2 * i - 1)\n",
    "    space = \" \" * (((2 * (n_increase) - 1) - len(star)) // 2)\n",
    "\n",
    "    line = space + star\n",
    "    print(line)\n",
    "\n",
    "for i in range(n_decrease, 0, -1):\n",
    "    star = \"*\" * (2 * i - 1)\n",
    "    space = \" \" * (((2 * (n_increase) - 1) - len(star)) // 2)\n",
    "    \n",
    "    line = space + star\n",
    "    print(line)"
   ]
  },
  {
   "cell_type": "code",
   "execution_count": 55,
   "metadata": {},
   "outputs": [
    {
     "name": "stdout",
     "output_type": "stream",
     "text": [
      "    *    \n",
      "   ***   \n",
      "  *****  \n",
      " ******* \n",
      "*********\n",
      " ******* \n",
      "  *****  \n",
      "   ***   \n",
      "    *    \n"
     ]
    }
   ],
   "source": [
    "N = int(input())\n",
    "B = []\n",
    "\n",
    "for i in range(1, N * 2, 2):\n",
    "    star = '*' * i\n",
    "    B.append(star)\n",
    "\n",
    "for i in range(len(B)):\n",
    "    print(' ' * (N - i - 1) + B[i])\n",
    "\n",
    "B.reverse()\n",
    "\n",
    "for i in range(1, len(B)):\n",
    "    print(' ' * i + B[i])"
   ]
  },
  {
   "cell_type": "markdown",
   "metadata": {},
   "source": [
    "### 문제\n",
    "알파벳 소문자로만 이루어진 단어가 주어진다. 이때, 이 단어가 팰린드롬인지 아닌지 확인하는 프로그램을 작성하시오.\n",
    "\n",
    "팰린드롬이란 앞으로 읽을 때와 거꾸로 읽을 때 똑같은 단어를 말한다. \n",
    "\n",
    "level, noon은 팰린드롬이고, baekjoon, online, judge는 팰린드롬이 아니다.\n",
    "\n",
    "### 입력\n",
    "첫째 줄에 단어가 주어진다. 단어의 길이는 1보다 크거나 같고, 100보다 작거나 같으며, 알파벳 소문자로만 이루어져 있다.\n",
    "\n",
    "### 출력\n",
    "첫째 줄에 팰린드롬이면 1, 아니면 0을 출력한다.\n",
    "\n",
    "### 예제 입력 1 \n",
    "level\n",
    "### 예제 출력 1 \n",
    "1\n",
    "### 예제 입력 2 \n",
    "baekjoon\n",
    "### 예제 출력 2 \n",
    "0"
   ]
  },
  {
   "cell_type": "code",
   "execution_count": 56,
   "metadata": {},
   "outputs": [
    {
     "name": "stdout",
     "output_type": "stream",
     "text": [
      "1\n"
     ]
    }
   ],
   "source": [
    "vocab = input()\n",
    "\n",
    "if vocab[::-1] == vocab:\n",
    "    print(1)\n",
    "else:\n",
    "    print(0)"
   ]
  },
  {
   "cell_type": "markdown",
   "metadata": {},
   "source": [
    "### 문제\n",
    "알파벳 대소문자로 된 단어가 주어지면, 이 단어에서 가장 많이 사용된 알파벳이 무엇인지 알아내는 프로그램을 작성하시오. 단, 대문자와 소문자를 구분하지 않는다.\n",
    "\n",
    "### 입력\n",
    "첫째 줄에 알파벳 대소문자로 이루어진 단어가 주어진다. 주어지는 단어의 길이는 1,000,000을 넘지 않는다.\n",
    "\n",
    "### 출력\n",
    "첫째 줄에 이 단어에서 가장 많이 사용된 알파벳을 대문자로 출력한다. 단, 가장 많이 사용된 알파벳이 여러 개 존재하는 경우에는 ?를 출력한다.\n",
    "\n",
    "### 예제 입력 1 \n",
    "Mississipi\n",
    "### 예제 출력 1 \n",
    "?\n",
    "### 예제 입력 2 \n",
    "zZa\n",
    "### 예제 출력 2 \n",
    "Z\n",
    "### 예제 입력 3 \n",
    "z\n",
    "### 예제 출력 3 \n",
    "Z\n",
    "### 예제 입력 4 \n",
    "baaa\n",
    "### 예제 출력 4 \n",
    "A"
   ]
  },
  {
   "cell_type": "code",
   "execution_count": 29,
   "metadata": {},
   "outputs": [
    {
     "name": "stdout",
     "output_type": "stream",
     "text": [
      "Z\n"
     ]
    }
   ],
   "source": [
    "vocab = input().lower()\n",
    "\n",
    "counter = {}\n",
    "for v in vocab:\n",
    "    if v in counter:\n",
    "        counter[v] += 1\n",
    "    else:\n",
    "        counter[v] = 1\n",
    "\n",
    "# 가장 많이 등장한 문자의 빈도수 찾기\n",
    "most_freq = max(counter.values())\n",
    "\n",
    "# 가장 많이 등장한 문자가 여러 개인지 확인\n",
    "most_freq_chars = [alpha for alpha, freq in counter.items() if freq == most_freq]\n",
    "\n",
    "if len(most_freq_chars) > 1:\n",
    "    print(\"?\")\n",
    "else:\n",
    "    print(most_freq_chars[0].upper())\n"
   ]
  },
  {
   "cell_type": "code",
   "execution_count": 26,
   "metadata": {},
   "outputs": [
    {
     "name": "stdout",
     "output_type": "stream",
     "text": [
      "?\n"
     ]
    }
   ],
   "source": [
    "def most_common_letter(word):\n",
    "    word = word.lower()\n",
    "\n",
    "    counter = {}\n",
    "    for letter in word:\n",
    "        if letter.isalpha():\n",
    "            counter[letter] = counter.get(letter, 0) + 1\n",
    "\n",
    "    max_count = max(counter.values())\n",
    "    common_letters = [k.upper() for k, v in counter.items() if v == max_count]\n",
    "\n",
    "    if len(common_letters) == 1:\n",
    "        return common_letters[0]\n",
    "    else:\n",
    "        return '?'\n",
    "\n",
    "input_word = input().strip()\n",
    "print(most_common_letter(input_word))"
   ]
  },
  {
   "cell_type": "markdown",
   "metadata": {},
   "source": [
    "![imgs](./imgs/Day5-크로아티아%20알파벳.png)"
   ]
  },
  {
   "cell_type": "code",
   "execution_count": 74,
   "metadata": {},
   "outputs": [
    {
     "name": "stdout",
     "output_type": "stream",
     "text": [
      "2\n"
     ]
    }
   ],
   "source": [
    "en = [\"c=\", \"c-\", \"dz=\", \"d-\", \"lj\", \"nj\", \"s=\", \"z=\"]\n",
    "vocab = input()\n",
    "\n",
    "for e in en:\n",
    "    vocab = vocab.replace(e, \"*\")\n",
    "\n",
    "print(len(vocab))"
   ]
  },
  {
   "cell_type": "markdown",
   "metadata": {},
   "source": [
    "![img](./imgs/Day5-그룹단어.png)"
   ]
  },
  {
   "cell_type": "code",
   "execution_count": 76,
   "metadata": {},
   "outputs": [
    {
     "name": "stdout",
     "output_type": "stream",
     "text": [
      "1\n"
     ]
    }
   ],
   "source": [
    "n = int(input())\n",
    "\n",
    "result = 0\n",
    "for i in range(n):\n",
    "    vocab = input()\n",
    "    counter = set()\n",
    "    tmp = \"\"\n",
    "    for v in vocab:\n",
    "        if v not in counter:\n",
    "            tmp = v\n",
    "            counter.add(v)\n",
    "        elif v != tmp and v in counter:\n",
    "            break\n",
    "    else:\n",
    "        result += 1\n",
    "        \n",
    "print(result)"
   ]
  },
  {
   "cell_type": "code",
   "execution_count": 78,
   "metadata": {},
   "outputs": [
    {
     "ename": "ValueError",
     "evalue": "not enough values to unpack (expected 3, got 0)",
     "output_type": "error",
     "traceback": [
      "\u001b[0;31m---------------------------------------------------------------------------\u001b[0m",
      "\u001b[0;31mValueError\u001b[0m                                Traceback (most recent call last)",
      "\u001b[0;32m/var/folders/h2/dxdwtry542514hp51hkrx__h0000gn/T/ipykernel_24892/2192960774.py\u001b[0m in \u001b[0;36m<module>\u001b[0;34m\u001b[0m\n\u001b[1;32m      5\u001b[0m \u001b[0;32mwhile\u001b[0m \u001b[0;32mTrue\u001b[0m\u001b[0;34m:\u001b[0m\u001b[0;34m\u001b[0m\u001b[0;34m\u001b[0m\u001b[0m\n\u001b[1;32m      6\u001b[0m     \u001b[0;32mtry\u001b[0m\u001b[0;34m:\u001b[0m\u001b[0;34m\u001b[0m\u001b[0;34m\u001b[0m\u001b[0m\n\u001b[0;32m----> 7\u001b[0;31m         \u001b[0msubject_name\u001b[0m\u001b[0;34m,\u001b[0m \u001b[0msubject_score\u001b[0m\u001b[0;34m,\u001b[0m \u001b[0mmy_score\u001b[0m \u001b[0;34m=\u001b[0m \u001b[0minput\u001b[0m\u001b[0;34m(\u001b[0m\u001b[0;34m)\u001b[0m\u001b[0;34m.\u001b[0m\u001b[0msplit\u001b[0m\u001b[0;34m(\u001b[0m\u001b[0;34m)\u001b[0m\u001b[0;34m\u001b[0m\u001b[0;34m\u001b[0m\u001b[0m\n\u001b[0m\u001b[1;32m      8\u001b[0m         \u001b[0;32mif\u001b[0m \u001b[0mmy_score\u001b[0m \u001b[0;34m==\u001b[0m \u001b[0;34m\"P\"\u001b[0m\u001b[0;34m:\u001b[0m\u001b[0;34m\u001b[0m\u001b[0;34m\u001b[0m\u001b[0m\n\u001b[1;32m      9\u001b[0m             \u001b[0;32mpass\u001b[0m\u001b[0;34m\u001b[0m\u001b[0;34m\u001b[0m\u001b[0m\n",
      "\u001b[0;31mValueError\u001b[0m: not enough values to unpack (expected 3, got 0)"
     ]
    }
   ],
   "source": [
    "score = {\"A+\":4.5,\"A0\":4.0,\"B+\":3.5,\"B0\":3.0,\"C+\":2.5,\"C0\":2.0,\"D+\":1.5,\"D0\":1.0,\"F\":0.0}\n",
    "\n",
    "total_sum = 0\n",
    "total_subject_score = 0\n",
    "while True:\n",
    "    try:\n",
    "        subject_name, subject_score, my_score = input().split()\n",
    "        if my_score == \"P\":\n",
    "            pass\n",
    "        else:\n",
    "            total_sum += (score[my_score] * float(subject_score))\n",
    "            total_subject_score += float(subject_score)\n",
    "    except EOFError:\n",
    "        break\n",
    "\n",
    "print(total_sum / total_subject_score)"
   ]
  },
  {
   "cell_type": "code",
   "execution_count": null,
   "metadata": {},
   "outputs": [],
   "source": []
  }
 ],
 "metadata": {
  "kernelspec": {
   "display_name": "base",
   "language": "python",
   "name": "python3"
  },
  "language_info": {
   "codemirror_mode": {
    "name": "ipython",
    "version": 3
   },
   "file_extension": ".py",
   "mimetype": "text/x-python",
   "name": "python",
   "nbconvert_exporter": "python",
   "pygments_lexer": "ipython3",
   "version": "3.9.13"
  }
 },
 "nbformat": 4,
 "nbformat_minor": 2
}
