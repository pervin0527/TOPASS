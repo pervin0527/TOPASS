{
 "cells": [
  {
   "cell_type": "markdown",
   "metadata": {},
   "source": [
    "# hash 함수(Built-in function)"
   ]
  },
  {
   "cell_type": "code",
   "execution_count": 1,
   "metadata": {},
   "outputs": [
    {
     "data": {
      "text/plain": [
       "2621618951985135"
      ]
     },
     "execution_count": 1,
     "metadata": {},
     "output_type": "execute_result"
    }
   ],
   "source": [
    "hash(2621618951985135)"
   ]
  },
  {
   "cell_type": "code",
   "execution_count": 2,
   "metadata": {},
   "outputs": [
    {
     "data": {
      "text/plain": [
       "3542148698896779024"
      ]
     },
     "execution_count": 2,
     "metadata": {},
     "output_type": "execute_result"
    }
   ],
   "source": [
    "hash(\"apple\")"
   ]
  },
  {
   "cell_type": "code",
   "execution_count": 3,
   "metadata": {},
   "outputs": [],
   "source": [
    "def integer_hash(x, M):\n",
    "    return (x % M + M) % M"
   ]
  },
  {
   "cell_type": "code",
   "execution_count": 4,
   "metadata": {},
   "outputs": [
    {
     "name": "stdout",
     "output_type": "stream",
     "text": [
      "0\n",
      "6\n"
     ]
    }
   ],
   "source": [
    "M = 10\n",
    "print(integer_hash(10, M))  # 출력: 0\n",
    "print(integer_hash(-4, M))  # 출력: 6"
   ]
  },
  {
   "cell_type": "code",
   "execution_count": 5,
   "metadata": {},
   "outputs": [],
   "source": [
    "def string_hash(s, M):\n",
    "    a = 1000  # 진법의 밑\n",
    "    h = 0\n",
    "    for x in s:\n",
    "        h = (h * a + ord(x)) % M\n",
    "    return h"
   ]
  },
  {
   "cell_type": "code",
   "execution_count": 6,
   "metadata": {},
   "outputs": [
    {
     "name": "stdout",
     "output_type": "stream",
     "text": [
      "98\n",
      "11\n"
     ]
    }
   ],
   "source": [
    "M = 100\n",
    "print(string_hash(\"ab\", M))  # 출력: 97*1000 + 98 % 100 = 195\n",
    "print(string_hash(\"hello\", M))"
   ]
  },
  {
   "cell_type": "markdown",
   "metadata": {},
   "source": [
    "# Chaining"
   ]
  },
  {
   "cell_type": "code",
   "execution_count": 7,
   "metadata": {},
   "outputs": [],
   "source": [
    "class Node:\n",
    "    def __init__(self, key, value):\n",
    "        self.key = key\n",
    "        self.value = value\n",
    "        self.next = None"
   ]
  },
  {
   "cell_type": "code",
   "execution_count": 8,
   "metadata": {},
   "outputs": [],
   "source": [
    "class Node:\n",
    "    def __init__(self, key, value):\n",
    "        self.key = key\n",
    "        self.value = value\n",
    "        self.next = None\n",
    "\n",
    "class HashTable:\n",
    "    def __init__(self, size):\n",
    "        self.size = size\n",
    "        self.table = [None] * size\n",
    "\n",
    "    def hash_func(self, key):\n",
    "        return hash(key) % self.size\n",
    "\n",
    "    def insert(self, key, value):\n",
    "        index = self.hash_func(key)\n",
    "        new_node = Node(key, value)\n",
    "        if self.table[index] is None:\n",
    "            self.table[index] = new_node\n",
    "        else:\n",
    "            new_node.next = self.table[index]\n",
    "            self.table[index] = new_node\n",
    "\n",
    "    def search(self, key):\n",
    "        index = self.hash_func(key)\n",
    "        node = self.table[index]\n",
    "        while node:\n",
    "            if node.key == key:\n",
    "                return node.value\n",
    "            node = node.next\n",
    "        return None\n",
    "\n",
    "    def delete(self, key):\n",
    "        index = self.hash_func(key)\n",
    "        node = self.table[index]\n",
    "        prev = None\n",
    "        while node:\n",
    "            if node.key == key:\n",
    "                if prev:\n",
    "                    prev.next = node.next\n",
    "                else:\n",
    "                    self.table[index] = node.next\n",
    "                return\n",
    "            prev = node\n",
    "            node = node.next"
   ]
  },
  {
   "cell_type": "code",
   "execution_count": 9,
   "metadata": {},
   "outputs": [],
   "source": [
    "hash_table = HashTable(10)\n",
    "\n",
    "hash_table.insert(10, \"Value 1\")\n",
    "hash_table.insert(20, \"Value 2\")\n",
    "hash_table.insert(30, \"Value 3\")"
   ]
  },
  {
   "cell_type": "code",
   "execution_count": 10,
   "metadata": {},
   "outputs": [
    {
     "name": "stdout",
     "output_type": "stream",
     "text": [
      "Value 1\n",
      "Value 2\n"
     ]
    }
   ],
   "source": [
    "print(hash_table.search(10))  # \"Value 1\"\n",
    "print(hash_table.search(20))  # \"Value 2\""
   ]
  },
  {
   "cell_type": "code",
   "execution_count": 11,
   "metadata": {},
   "outputs": [
    {
     "name": "stdout",
     "output_type": "stream",
     "text": [
      "None\n"
     ]
    }
   ],
   "source": [
    "hash_table.delete(20)\n",
    "print(hash_table.search(20))"
   ]
  },
  {
   "cell_type": "markdown",
   "metadata": {},
   "source": [
    "# OpenAddressing"
   ]
  },
  {
   "cell_type": "code",
   "execution_count": null,
   "metadata": {},
   "outputs": [],
   "source": [
    "class HashTable:\n",
    "    def __init__(self, size):\n",
    "        # 해시 테이블의 크기를 설정하고 크기만큼 None으로 초기화된 리스트 생성\n",
    "        self.size = size\n",
    "        self.table = [None] * size\n",
    "\n",
    "    def hash_function(self, key):\n",
    "        # 키의 타입에 따라 해시 함수 적용\n",
    "        if isinstance(key, int):\n",
    "            # 정수형 키인 경우 크기로 나눈 나머지 반환\n",
    "            return key % self.size\n",
    "        elif isinstance(key, str):\n",
    "            # 문자열 키인 경우 각 문자의 아스키 코드 값의 합을 크기로 나눈 나머지 반환\n",
    "            return sum(ord(char) for char in key) % self.size\n",
    "        else:\n",
    "            # 지원되지 않는 키 타입인 경우 예외 발생\n",
    "            raise TypeError(\"Invalid key type. Only integers and strings are supported.\")\n",
    "\n",
    "    def insert(self, key, value):\n",
    "        # 해시 함수를 사용하여 키에 해당하는 인덱스 계산\n",
    "        index = self.hash_function(key)\n",
    "        while self.table[index] is not None:\n",
    "            # 해당 인덱스에 이미 값이 존재하는 경우\n",
    "            if self.table[index][0] == key:\n",
    "                # 키가 일치하는 경우 값을 업데이트하고 메서드 종료\n",
    "                self.table[index] = (key, value)\n",
    "                return\n",
    "            # 인덱스를 1 증가시키고 크기로 나눈 나머지를 사용하여 다음 인덱스로 이동\n",
    "            index = (index + 1) % self.size\n",
    "        # 빈 슬롯을 찾은 경우 키-값 쌍을 저장\n",
    "        self.table[index] = (key, value)\n",
    "\n",
    "        \"\"\"\n",
    "        해시 테이블의 크기가 size라고 할 때, 인덱스는 0부터 size-1 사이의 값을 가져야 합니다. 만약 인덱스를 1 증가시킨 후 size보다 크거나 같아지면, 해시 테이블의 범위를 벗어나게 됩니다.\n",
    "        예를 들어, 해시 테이블의 크기가 5라고 가정해보겠습니다. 현재 인덱스가 4라면, 다음 인덱스는 5가 되어야 합니다. 하지만 해시 테이블의 인덱스 범위는 0부터 4까지입니다. \n",
    "        이런 경우 인덱스를 1 증가시키고 크기로 나눈 나머지를 사용하여 해시 테이블의 모든 슬롯을 순회할 수 있습니다.\n",
    "        \"\"\"\n",
    "\n",
    "    def search(self, key):\n",
    "        # 해시 함수를 사용하여 키에 해당하는 인덱스 계산\n",
    "        index = self.hash_function(key)\n",
    "        while self.table[index] is not None:\n",
    "            # 해당 인덱스에 값이 존재하는 경우\n",
    "            if self.table[index][0] == key:\n",
    "                # 키가 일치하는 경우 해당 값을 반환\n",
    "                return self.table[index][1]\n",
    "            # 인덱스를 1 증가시키고 크기로 나눈 나머지를 사용하여 다음 인덱스로 이동\n",
    "            index = (index + 1) % self.size\n",
    "        # 키를 찾지 못한 경우 None 반환\n",
    "        return None\n",
    "\n",
    "    def delete(self, key):\n",
    "        # 해시 함수를 사용하여 키에 해당하는 인덱스 계산\n",
    "        index = self.hash_function(key)\n",
    "        while self.table[index] is not None:\n",
    "            # 해당 인덱스에 값이 존재하는 경우\n",
    "            if self.table[index][0] == key:\n",
    "                # 키가 일치하는 경우 해당 슬롯을 None으로 설정하고 메서드 종료\n",
    "                self.table[index] = None\n",
    "                return\n",
    "            # 인덱스를 1 증가시키고 크기로 나눈 나머지를 사용하여 다음 인덱스로 이동\n",
    "            index = (index + 1) % self.size"
   ]
  }
 ],
 "metadata": {
  "kernelspec": {
   "display_name": "base",
   "language": "python",
   "name": "python3"
  },
  "language_info": {
   "codemirror_mode": {
    "name": "ipython",
    "version": 3
   },
   "file_extension": ".py",
   "mimetype": "text/x-python",
   "name": "python",
   "nbconvert_exporter": "python",
   "pygments_lexer": "ipython3",
   "version": "3.9.13"
  }
 },
 "nbformat": 4,
 "nbformat_minor": 2
}
