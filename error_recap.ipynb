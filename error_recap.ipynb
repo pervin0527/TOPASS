{
 "cells": [
  {
   "cell_type": "markdown",
   "metadata": {},
   "source": [
    "### Array [https://www.acmicpc.net/problem/2577](https://www.acmicpc.net/problem/2577)"
   ]
  },
  {
   "cell_type": "code",
   "execution_count": 8,
   "metadata": {},
   "outputs": [
    {
     "name": "stdout",
     "output_type": "stream",
     "text": [
      "3\n",
      "1\n",
      "0\n",
      "2\n",
      "0\n",
      "0\n",
      "0\n",
      "2\n",
      "0\n",
      "0\n"
     ]
    }
   ],
   "source": [
    "def main():\n",
    "    a = int(input().rstrip())\n",
    "    b = int(input().rstrip())\n",
    "    c = int(input().rstrip())\n",
    "    abc = a * b * c\n",
    "\n",
    "    arr = [0] * 10\n",
    "    while True:\n",
    "        rem, qut = divmod(abc, 10)\n",
    "\n",
    "        if rem == 0:\n",
    "            arr[qut] += 1\n",
    "            break\n",
    "\n",
    "        abc = rem\n",
    "        arr[qut] += 1\n",
    "\n",
    "    for a in arr:\n",
    "        print(a)\n",
    "\n",
    "\"\"\"\n",
    "150\n",
    "266\n",
    "427\n",
    "\"\"\"\n",
    "if __name__ == \"__main__\":\n",
    "    main()"
   ]
  },
  {
   "cell_type": "code",
   "execution_count": null,
   "metadata": {},
   "outputs": [],
   "source": []
  }
 ],
 "metadata": {
  "kernelspec": {
   "display_name": "base",
   "language": "python",
   "name": "python3"
  },
  "language_info": {
   "codemirror_mode": {
    "name": "ipython",
    "version": 3
   },
   "file_extension": ".py",
   "mimetype": "text/x-python",
   "name": "python",
   "nbconvert_exporter": "python",
   "pygments_lexer": "ipython3",
   "version": "3.9.13"
  }
 },
 "nbformat": 4,
 "nbformat_minor": 2
}
