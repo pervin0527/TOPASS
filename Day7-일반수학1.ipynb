{
 "cells": [
  {
   "cell_type": "markdown",
   "metadata": {},
   "source": [
    "### 문제\n",
    "B진법 수 N이 주어진다. 이 수를 10진법으로 바꿔 출력하는 프로그램을 작성하시오.\n",
    "\n",
    "10진법을 넘어가는 진법은 숫자로 표시할 수 없는 자리가 있다. 이런 경우에는 다음과 같이 알파벳 대문자를 사용한다.\n",
    "\n",
    "A: 10, B: 11, ..., F: 15, ..., Y: 34, Z: 35\n",
    "\n",
    "### 입력\n",
    "첫째 줄에 N과 B가 주어진다. (2 ≤ B ≤ 36)\n",
    "\n",
    "B진법 수 N을 10진법으로 바꾸면, 항상 10억보다 작거나 같다.\n",
    "\n",
    "### 출력\n",
    "첫째 줄에 B진법 수 N을 10진법으로 출력한다.\n",
    "\n",
    "### 예제 입력 1 \n",
    "ZZZZZ 36\n",
    "### 예제 출력 1 \n",
    "60466175"
   ]
  },
  {
   "cell_type": "code",
   "execution_count": 5,
   "metadata": {},
   "outputs": [
    {
     "name": "stdout",
     "output_type": "stream",
     "text": [
      "13\n"
     ]
    }
   ],
   "source": [
    "N, B = input().split()\n",
    "\n",
    "alphabets = [chr(i) for i in range(ord('A'),ord('Z')+1)]\n",
    "numbers = [x for x in range(10, 36)]\n",
    "\n",
    "target = 0\n",
    "for idx, c in enumerate(N[::-1]):\n",
    "    if c in alphabets:\n",
    "        value = numbers[alphabets.index(c)] * (int(B) ** idx)\n",
    "        target += value\n",
    "    else:\n",
    "        value = int(c) * (int(B) ** idx)\n",
    "        target += value\n",
    "\n",
    "print(target)"
   ]
  },
  {
   "cell_type": "markdown",
   "metadata": {},
   "source": [
    "### 문제\n",
    "10진법 수 N이 주어진다. 이 수를 B진법으로 바꿔 출력하는 프로그램을 작성하시오.\n",
    "\n",
    "10진법을 넘어가는 진법은 숫자로 표시할 수 없는 자리가 있다. 이런 경우에는 다음과 같이 알파벳 대문자를 사용한다.\n",
    "\n",
    "A: 10, B: 11, ..., F: 15, ..., Y: 34, Z: 35\n",
    "\n",
    "### 입력\n",
    "첫째 줄에 N과 B가 주어진다. (2 ≤ B ≤ 36) N은 10억보다 작거나 같은 자연수이다.\n",
    "\n",
    "### 출력\n",
    "첫째 줄에 10진법 수 N을 B진법으로 출력한다.\n",
    "\n",
    "### 예제 입력 1 \n",
    "\n",
    "60466175 36\n",
    "### 예제 출력 1 \n",
    "\n",
    "ZZZZZ"
   ]
  },
  {
   "cell_type": "code",
   "execution_count": 26,
   "metadata": {},
   "outputs": [
    {
     "name": "stdout",
     "output_type": "stream",
     "text": [
      "1011\n"
     ]
    }
   ],
   "source": [
    "N, B = input().split()\n",
    "characters = [x for x in range(0, 10)] + [chr(i) for i in range(ord('A'),ord('Z')+1)]\n",
    "\n",
    "result = \"\"\n",
    "while True:\n",
    "    remainder = int(N) % int(B)\n",
    "    N = int(N) // int(B)\n",
    "\n",
    "    result += str(characters[remainder])\n",
    "\n",
    "    if N == 0:\n",
    "        break\n",
    "\n",
    "print(result[::-1])"
   ]
  },
  {
   "cell_type": "markdown",
   "metadata": {},
   "source": [
    "### 문제\n",
    "미국으로 유학간 동혁이는 세탁소를 운영하고 있다. 동혁이는 최근에 아르바이트로 고등학생 리암을 채용했다.\n",
    "\n",
    "동혁이는 리암에게 실망했다.\n",
    "\n",
    "리암은 거스름돈을 주는 것을 자꾸 실수한다.\n",
    "\n",
    "심지어 $0.5달러를 줘야하는 경우에 거스름돈으로 $5달러를 주는것이다!\n",
    "\n",
    "어쩔수 없이 뛰어난 코딩 실력을 발휘해 리암을 도와주는 프로그램을 작성하려고 하지만, 디아블로를 하느라 코딩할 시간이 없어서 이 문제를 읽고 있는 여러분이 대신 해주어야 한다.\n",
    "\n",
    "거스름돈의 액수가 주어지면 리암이 줘야할 쿼터(Quarter, $0.25)의 개수, 다임(Dime, $0.10)의 개수, 니켈(Nickel, $0.05)의 개수, 페니(Penny, $0.01)의 개수를 구하는 프로그램을 작성하시오. 거스름돈은 항상 $5.00 이하이고, 손님이 받는 동전의 개수를 최소로 하려고 한다. 예를 들어, $1.24를 거슬러 주어야 한다면, 손님은 4쿼터, 2다임, 0니켈, 4페니를 받게 된다.\n",
    "\n",
    "### 입력\n",
    "첫째 줄에 테스트 케이스의 개수 T가 주어진다. 각 테스트 케이스는 거스름돈 C를 나타내는 정수 하나로 이루어져 있다. C의 단위는 센트이다. (1달러 = 100센트) (1<=C<=500)\n",
    "\n",
    "### 출력\n",
    "각 테스트케이스에 대해 필요한 쿼터의 개수, 다임의 개수, 니켈의 개수, 페니의 개수를 공백으로 구분하여 출력한다.\n",
    "\n",
    "### 예제 입력 1 \n",
    "3  \n",
    "124  \n",
    "25  \n",
    "194  \n",
    "### 예제 출력 1 \n",
    "4 2 0 4  \n",
    "1 0 0 0  \n",
    "7 1 1 4  "
   ]
  },
  {
   "cell_type": "code",
   "execution_count": 15,
   "metadata": {},
   "outputs": [
    {
     "name": "stdout",
     "output_type": "stream",
     "text": [
      "4 2 0 4\n",
      "1 0 0 0\n",
      "7 1 1 4\n"
     ]
    }
   ],
   "source": [
    "Quarter = 25\n",
    "Dime = 10\n",
    "Nickel = 5\n",
    "Penny = 1\n",
    "\n",
    "I = int(input())\n",
    "for i in range(I):\n",
    "    Q, D, N, P = 0, 0, 0, 0\n",
    "    C = int(input())\n",
    "\n",
    "    while C != 0:\n",
    "        if C >= Quarter:\n",
    "            Q += (C // Quarter)\n",
    "            C = C % Quarter\n",
    "\n",
    "        elif C >= Dime:\n",
    "            D += (C // Dime)\n",
    "            C = C % Dime\n",
    "\n",
    "        elif C >= Nickel:\n",
    "            N += (C // Nickel)\n",
    "            C = C % Nickel\n",
    "\n",
    "        else:\n",
    "            P += (C // Penny)\n",
    "            C = C % Penny\n",
    "\n",
    "    print(Q, D, N, P)"
   ]
  },
  {
   "cell_type": "markdown",
   "metadata": {},
   "source": [
    "[https://www.acmicpc.net/problem/2903](https://www.acmicpc.net/problem/2903)"
   ]
  },
  {
   "cell_type": "code",
   "execution_count": 25,
   "metadata": {},
   "outputs": [
    {
     "name": "stdout",
     "output_type": "stream",
     "text": [
      "9\n"
     ]
    }
   ],
   "source": [
    "## 초기 상태 4개의 점. 4개의 변.\n",
    "## 1번 적용하면 4개의 변 각각의 중점과 정사각형의 중심에 점을 하나 추가한다. \n",
    "## 점들을 기준으로 선을 연결해 4개의 정사각형이 만들어진다.\n",
    "## 하나의 정사각형마다 5개의 점이 추가된다.\n",
    "\n",
    "arr = [[1], [1],\n",
    "       [1], [1]]\n",
    "\n",
    "I = int(input())\n",
    "for i in range(I):\n",
    "    for i in range(0, len(arr)):\n",
    "        arr.insert(i, [1])\n",
    "    arr.append([1])\n",
    "\n",
    "print(len(arr))"
   ]
  },
  {
   "cell_type": "markdown",
   "metadata": {},
   "source": [
    "[https://www.acmicpc.net/problem/2292](https://www.acmicpc.net/problem/2292)"
   ]
  },
  {
   "cell_type": "code",
   "execution_count": 57,
   "metadata": {},
   "outputs": [
    {
     "name": "stdout",
     "output_type": "stream",
     "text": [
      "2\n"
     ]
    }
   ],
   "source": [
    "N = int(input())\n",
    "\n",
    "layer = 1\n",
    "start, end = 1, 1\n",
    "if N == 1:\n",
    "    print(layer)\n",
    "\n",
    "else:\n",
    "    while True:\n",
    "        start = end + 1\n",
    "        end = end + (6 * layer)\n",
    "\n",
    "        layer += 1\n",
    "        if start <= N <= end:\n",
    "            print(layer)\n",
    "            break"
   ]
  },
  {
   "cell_type": "markdown",
   "metadata": {},
   "source": [
    "[https://www.acmicpc.net/problem/1193](https://www.acmicpc.net/problem/1193)"
   ]
  },
  {
   "cell_type": "code",
   "execution_count": 85,
   "metadata": {},
   "outputs": [
    {
     "name": "stdout",
     "output_type": "stream",
     "text": [
      "3 6 1\n",
      "2/2\n"
     ]
    }
   ],
   "source": [
    "X = int(input())\n",
    "\n",
    "step, end_point = 1, 1\n",
    "while end_point < X:\n",
    "    step += 1\n",
    "    end_point += step\n",
    "n_iter = end_point - X\n",
    "# print(step, end_point, n_iter)\n",
    "\n",
    "if step % 2 == 0:\n",
    "    head, tail = step, 1\n",
    "    for i in range(1, n_iter + 1):\n",
    "        ## 분모가 감소, 분자가 증가.\n",
    "        head -= 1\n",
    "        tail += 1\n",
    "\n",
    "else:\n",
    "    head, tail = 1, step\n",
    "    for i in range(1, n_iter + 1):\n",
    "        ## 분모가 증가, 분자가 감소.\n",
    "        head += 1\n",
    "        tail -= 1\n",
    "\n",
    "print(f\"{head}/{tail}\")"
   ]
  },
  {
   "cell_type": "markdown",
   "metadata": {},
   "source": [
    "[https://www.acmicpc.net/problem/2869](https://www.acmicpc.net/problem/2869)"
   ]
  },
  {
   "cell_type": "code",
   "execution_count": 112,
   "metadata": {},
   "outputs": [
    {
     "ename": "KeyboardInterrupt",
     "evalue": "",
     "output_type": "error",
     "traceback": [
      "\u001b[0;31m---------------------------------------------------------------------------\u001b[0m",
      "\u001b[0;31mKeyboardInterrupt\u001b[0m                         Traceback (most recent call last)",
      "\u001b[0;32m/var/folders/h2/dxdwtry542514hp51hkrx__h0000gn/T/ipykernel_31563/3757376818.py\u001b[0m in \u001b[0;36m<module>\u001b[0;34m\u001b[0m\n\u001b[1;32m      5\u001b[0m \u001b[0;32mwhile\u001b[0m \u001b[0;32mTrue\u001b[0m\u001b[0;34m:\u001b[0m\u001b[0;34m\u001b[0m\u001b[0;34m\u001b[0m\u001b[0m\n\u001b[1;32m      6\u001b[0m     \u001b[0mdays\u001b[0m \u001b[0;34m+=\u001b[0m \u001b[0;36m1\u001b[0m\u001b[0;34m\u001b[0m\u001b[0;34m\u001b[0m\u001b[0m\n\u001b[0;32m----> 7\u001b[0;31m     \u001b[0mtmp\u001b[0m \u001b[0;34m+=\u001b[0m \u001b[0mA\u001b[0m\u001b[0;34m\u001b[0m\u001b[0;34m\u001b[0m\u001b[0m\n\u001b[0m\u001b[1;32m      8\u001b[0m \u001b[0;34m\u001b[0m\u001b[0m\n\u001b[1;32m      9\u001b[0m     \u001b[0;32mif\u001b[0m \u001b[0mtmp\u001b[0m \u001b[0;34m>=\u001b[0m \u001b[0mV\u001b[0m\u001b[0;34m:\u001b[0m\u001b[0;34m\u001b[0m\u001b[0;34m\u001b[0m\u001b[0m\n",
      "\u001b[0;31mKeyboardInterrupt\u001b[0m: "
     ]
    }
   ],
   "source": [
    "A, B, V = map(int, input().split())\n",
    "\n",
    "days = 0\n",
    "tmp = 0\n",
    "while True:\n",
    "    days += 1\n",
    "    tmp += A\n",
    "\n",
    "    if tmp >= V:\n",
    "        print(days)\n",
    "        break\n",
    "    else:\n",
    "        tmp -= B"
   ]
  },
  {
   "cell_type": "code",
   "execution_count": 123,
   "metadata": {},
   "outputs": [
    {
     "name": "stdout",
     "output_type": "stream",
     "text": [
      "2\n",
      "5\n"
     ]
    }
   ],
   "source": [
    "A, B, V = map(int, input().split())\n",
    "\n",
    "if A == V:\n",
    "    print(1)\n",
    "\n",
    "if V-A < A-B:\n",
    "    print(2)\n",
    "else:\n",
    "    print((V-A) + (A-B))"
   ]
  }
 ],
 "metadata": {
  "kernelspec": {
   "display_name": "base",
   "language": "python",
   "name": "python3"
  },
  "language_info": {
   "codemirror_mode": {
    "name": "ipython",
    "version": 3
   },
   "file_extension": ".py",
   "mimetype": "text/x-python",
   "name": "python",
   "nbconvert_exporter": "python",
   "pygments_lexer": "ipython3",
   "version": "3.9.13"
  }
 },
 "nbformat": 4,
 "nbformat_minor": 2
}
