{
 "cells": [
  {
   "cell_type": "code",
   "execution_count": 1,
   "metadata": {},
   "outputs": [
    {
     "name": "stdout",
     "output_type": "stream",
     "text": [
      "1\n",
      "0\n"
     ]
    }
   ],
   "source": [
    "\"\"\"\n",
    "https://www.acmicpc.net/problem/24262\n",
    "\n",
    "MenOfPassion(A[], n) {\n",
    "    i = ⌊n / 2⌋;\n",
    "    return A[i]; # 코드1\n",
    "}\n",
    "\n",
    "주어진 알고리즘은 입력 n을 i = ⌊n / 2⌋로 계산하여 A[i]를 반환하도록 한다.\n",
    "이 때, A[i]가 # 코드1 부분에 해당하기 때문에 \n",
    "\n",
    "출력의 첫째줄 코드 1의 수행 횟수는 한 번이고, 수행횟수를 다항식으로 나타내봤자 1이기 때문에 최고차항은 0이다.\n",
    "\"\"\"\n",
    "\n",
    "print(1)\n",
    "print(0)"
   ]
  },
  {
   "cell_type": "code",
   "execution_count": 2,
   "metadata": {},
   "outputs": [
    {
     "name": "stdout",
     "output_type": "stream",
     "text": [
      "3\n",
      "1\n"
     ]
    }
   ],
   "source": [
    "\"\"\"\n",
    "https://www.acmicpc.net/problem/24263 \n",
    "\n",
    "MenOfPassion(A[], n) {\n",
    "    sum <- 0;\n",
    "    for i <- 1 to n\n",
    "        sum <- sum + A[i]; # 코드1\n",
    "    return sum;\n",
    "}\n",
    "\n",
    "이 문제에서는 입력 n만큼 for문이 동작한다. 따라서 코드 1의 동작은 n번 수행되고, 최고 차항은 n이다. 따라서 최고차항의 차수는 1\n",
    "\"\"\"\n",
    "\n",
    "n = int(input())\n",
    "print(n)\n",
    "print(1)"
   ]
  },
  {
   "cell_type": "code",
   "execution_count": null,
   "metadata": {},
   "outputs": [],
   "source": [
    "\"\"\"\n",
    "https://www.acmicpc.net/problem/24264\n",
    "\n",
    "MenOfPassion(A[], n) {\n",
    "    sum <- 0;\n",
    "    for i <- 1 to n\n",
    "        for j <- 1 to n\n",
    "            sum <- sum + A[i] x A[j]; # 코드1\n",
    "    return sum;\n",
    "}\n",
    "\n",
    "입력 n만큼 반복하는 이중 for문이다. 따라서 코드1 부분은 n^2 만큼 실행되며 다항식은 n^2이므로 최고 차항의 값은 2이다.\n",
    "\"\"\"\n",
    "\n",
    "n = int(input())\n",
    "print(n ** 2)\n",
    "print(2)"
   ]
  },
  {
   "cell_type": "code",
   "execution_count": null,
   "metadata": {},
   "outputs": [],
   "source": [
    "\"\"\"\n",
    "https://www.acmicpc.net/problem/24265\n",
    "\n",
    "첫번째 for문은 i가 1부터 n-1까지 반복하므로, n-1번 실행된다.\n",
    "두번째 for문은 각 i에 대해 i+1부터 n까지 반복한다.\n",
    "\n",
    "첫번째 i에 대해 n-(i+1)+1 = n-i번 실행된다. 이는 등차수열 합공식으로 나타낼 수 있으며, n개의 원소에서 2개를 선택하는 방법의 수 C(n, 2)와 같다.\n",
    "C(n, 2) = n(n-1)/2\n",
    "\"\"\"\n",
    "\n",
    "n = int(input())\n",
    "print((n * (n - 1)) // 2)\n",
    "print(2)"
   ]
  },
  {
   "cell_type": "code",
   "execution_count": null,
   "metadata": {},
   "outputs": [],
   "source": [
    "## https://www.acmicpc.net/problem/24266\n",
    "\n",
    "n = int(input())\n",
    "print(n**3)\n",
    "print(3)"
   ]
  },
  {
   "cell_type": "code",
   "execution_count": 3,
   "metadata": {},
   "outputs": [
    {
     "name": "stdout",
     "output_type": "stream",
     "text": [
      "35\n",
      "3\n"
     ]
    }
   ],
   "source": [
    "## https://www.acmicpc.net/problem/24267\n",
    "\n",
    "n = int(input())\n",
    "print((n * (n-1) * (n-2))//6)\n",
    "print(3)"
   ]
  },
  {
   "cell_type": "code",
   "execution_count": 5,
   "metadata": {},
   "outputs": [
    {
     "name": "stdout",
     "output_type": "stream",
     "text": [
      "0\n"
     ]
    }
   ],
   "source": [
    "## https://www.acmicpc.net/problem/24313\n",
    "## https://kevinitcoding.tistory.com/entry/%EB%B0%B1%EC%A4%80Python-24313%EB%B2%88-%EC%95%8C%EA%B3%A0%EB%A6%AC%EC%A6%98-%EC%88%98%EC%97%85-%EC%A0%90%EA%B7%BC%EC%A0%81-%ED%91%9C%EA%B8%B0-1-%EB%AC%B8%EC%A0%9C\n",
    "\n",
    "a1, a0 = map(int, input().split())\n",
    "c = int(input())\n",
    "n0 = int(input())\n",
    "\n",
    "if ((a1 * n0) + a0) <= (c * n0) and a1 <= c:\n",
    "    print(1)\n",
    "else:\n",
    "    print(0)"
   ]
  }
 ],
 "metadata": {
  "kernelspec": {
   "display_name": "base",
   "language": "python",
   "name": "python3"
  },
  "language_info": {
   "codemirror_mode": {
    "name": "ipython",
    "version": 3
   },
   "file_extension": ".py",
   "mimetype": "text/x-python",
   "name": "python",
   "nbconvert_exporter": "python",
   "pygments_lexer": "ipython3",
   "version": "3.9.13"
  }
 },
 "nbformat": 4,
 "nbformat_minor": 2
}
