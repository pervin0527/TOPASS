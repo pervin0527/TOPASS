{
 "cells": [
  {
   "cell_type": "code",
   "execution_count": 1,
   "metadata": {},
   "outputs": [
    {
     "ename": "ValueError",
     "evalue": "not enough values to unpack (expected 2, got 0)",
     "output_type": "error",
     "traceback": [
      "\u001b[0;31m---------------------------------------------------------------------------\u001b[0m",
      "\u001b[0;31mValueError\u001b[0m                                Traceback (most recent call last)",
      "\u001b[0;32m/var/folders/h2/dxdwtry542514hp51hkrx__h0000gn/T/ipykernel_30568/1752047935.py\u001b[0m in \u001b[0;36m<module>\u001b[0;34m\u001b[0m\n\u001b[1;32m      1\u001b[0m \u001b[0;31m## https://www.acmicpc.net/problem/2798\u001b[0m\u001b[0;34m\u001b[0m\u001b[0;34m\u001b[0m\u001b[0m\n\u001b[1;32m      2\u001b[0m \u001b[0;34m\u001b[0m\u001b[0m\n\u001b[0;32m----> 3\u001b[0;31m \u001b[0mN\u001b[0m\u001b[0;34m,\u001b[0m \u001b[0mM\u001b[0m \u001b[0;34m=\u001b[0m \u001b[0mmap\u001b[0m\u001b[0;34m(\u001b[0m\u001b[0mint\u001b[0m\u001b[0;34m,\u001b[0m \u001b[0minput\u001b[0m\u001b[0;34m(\u001b[0m\u001b[0;34m)\u001b[0m\u001b[0;34m.\u001b[0m\u001b[0msplit\u001b[0m\u001b[0;34m(\u001b[0m\u001b[0;34m)\u001b[0m\u001b[0;34m)\u001b[0m\u001b[0;34m\u001b[0m\u001b[0;34m\u001b[0m\u001b[0m\n\u001b[0m\u001b[1;32m      4\u001b[0m \u001b[0mcards\u001b[0m \u001b[0;34m=\u001b[0m \u001b[0mlist\u001b[0m\u001b[0;34m(\u001b[0m\u001b[0mmap\u001b[0m\u001b[0;34m(\u001b[0m\u001b[0mint\u001b[0m\u001b[0;34m,\u001b[0m \u001b[0minput\u001b[0m\u001b[0;34m(\u001b[0m\u001b[0;34m)\u001b[0m\u001b[0;34m.\u001b[0m\u001b[0msplit\u001b[0m\u001b[0;34m(\u001b[0m\u001b[0;34m)\u001b[0m\u001b[0;34m)\u001b[0m\u001b[0;34m)\u001b[0m\u001b[0;34m\u001b[0m\u001b[0;34m\u001b[0m\u001b[0m\n\u001b[1;32m      5\u001b[0m \u001b[0;34m\u001b[0m\u001b[0m\n",
      "\u001b[0;31mValueError\u001b[0m: not enough values to unpack (expected 2, got 0)"
     ]
    }
   ],
   "source": [
    "## https://www.acmicpc.net/problem/2798\n",
    "\n",
    "N, M = map(int, input().split())\n",
    "cards = list(map(int, input().split()))\n",
    "\n",
    "result = 0\n",
    "for i in range(len(cards)):\n",
    "    for j in range(i+1, len(cards)):\n",
    "        for k in range(j+1, len(cards)):\n",
    "            sum = cards[i] + cards[j] + cards[k]\n",
    "            if sum <= M and result <= sum:\n",
    "                result = sum\n",
    "\n",
    "print(result)"
   ]
  },
  {
   "cell_type": "code",
   "execution_count": 4,
   "metadata": {},
   "outputs": [
    {
     "name": "stdout",
     "output_type": "stream",
     "text": [
      "198\n"
     ]
    }
   ],
   "source": [
    "## https://www.acmicpc.net/problem/2231\n",
    "## 어떤 자연수 N과 N을 이루는 각 자리수의 합이 분해합.\n",
    "## 어떤 자연수 M의 분해합이 N인 경우, M을 N의 생성자라 한다.\n",
    "## 198 + 1 + 9 + 8 = 216\n",
    "## 246 + 2 + 4 + 6 = 258\n",
    "\n",
    "N = int(input())\n",
    "\n",
    "for n in range(1, N+1):\n",
    "    numbers = list(map(int, str(n)))\n",
    "    tmp = n + sum(numbers)\n",
    "\n",
    "    if tmp == N:\n",
    "        print(n)\n",
    "        break\n",
    "\n",
    "else:\n",
    "    print(0)"
   ]
  },
  {
   "cell_type": "code",
   "execution_count": 17,
   "metadata": {},
   "outputs": [
    {
     "name": "stdout",
     "output_type": "stream",
     "text": [
      "2 -1\n"
     ]
    }
   ],
   "source": [
    "## https://www.acmicpc.net/problem/19532\n",
    "## ax + by = c\n",
    "## dx + ey = f\n",
    "\n",
    "\n",
    "a,b,c,d,e,f = map(int, input().split())\n",
    "\n",
    "for x in range(-999, 1000):\n",
    "    for y in range(-999, 1000):\n",
    "        if (x * a) + (y * b) == c and (x * d) + (y * e) == f:\n",
    "            print(x, y)\n",
    "            break"
   ]
  },
  {
   "cell_type": "code",
   "execution_count": 34,
   "metadata": {},
   "outputs": [
    {
     "name": "stdout",
     "output_type": "stream",
     "text": [
      "46\n"
     ]
    }
   ],
   "source": [
    "## https://www.acmicpc.net/problem/1018\n",
    "\n",
    "M, N = map(int, input().split())\n",
    "board = []\n",
    "for _ in range(M):\n",
    "    board.append(input())\n",
    "\n",
    "check_list = []\n",
    "for tmp_row in range(M - 7):\n",
    "    for tmp_col in range(N - 7):\n",
    "        white, black = 0, 0\n",
    "\n",
    "        for i in range(tmp_row, tmp_row + 8):\n",
    "            for j in range(tmp_col, tmp_col + 8):\n",
    "                if (i + j) % 2 == 0:\n",
    "                    if board[i][j] != \"W\":\n",
    "                        white += 1\n",
    "                    if board[i][j] != \"B\":\n",
    "                        black += 1\n",
    "\n",
    "                else:\n",
    "                    if board[i][j] != \"W\":\n",
    "                        black += 1\n",
    "                    if board[i][j] != \"B\":\n",
    "                        white += 1\n",
    "\n",
    "        check_list.append(min(white, black))\n",
    "\n",
    "print(min(check_list))"
   ]
  },
  {
   "cell_type": "code",
   "execution_count": 35,
   "metadata": {},
   "outputs": [
    {
     "name": "stdout",
     "output_type": "stream",
     "text": [
      "166699\n"
     ]
    }
   ],
   "source": [
    "## https://www.acmicpc.net/problem/1436\n",
    "\n",
    "n = int(input())\n",
    "\n",
    "count = 0\n",
    "result = 666\n",
    "while True:\n",
    "    if \"666\" in str(result):\n",
    "        count += 1\n",
    "\n",
    "    if count == n:\n",
    "        break\n",
    "\n",
    "    result += 1\n",
    "\n",
    "print(result)"
   ]
  },
  {
   "cell_type": "code",
   "execution_count": 69,
   "metadata": {},
   "outputs": [
    {
     "name": "stdout",
     "output_type": "stream",
     "text": [
      "3\n"
     ]
    }
   ],
   "source": [
    "N = int(input())\n",
    "check_list = []\n",
    "\n",
    "for i in range(N):\n",
    "    for j in range(N):\n",
    "        if (i * 5) + (j * 3) == N:\n",
    "            check_list.append(i + j)\n",
    "\n",
    "if len(check_list) < 1:\n",
    "    print(-1)\n",
    "else:\n",
    "    print(min(check_list))"
   ]
  },
  {
   "cell_type": "code",
   "execution_count": 71,
   "metadata": {},
   "outputs": [
    {
     "name": "stdout",
     "output_type": "stream",
     "text": [
      "-1\n"
     ]
    }
   ],
   "source": [
    "num = int(input())\n",
    "count = 0\n",
    "\n",
    "while num >= 0:\n",
    "  if num % 5 == 0:\n",
    "    count += int(num // 5)\n",
    "    print(count)\n",
    "    break\n",
    "  \n",
    "  num -= 3\n",
    "  count += 1\n",
    "  \n",
    "else:\n",
    "  print(-1)\n"
   ]
  }
 ],
 "metadata": {
  "kernelspec": {
   "display_name": "base",
   "language": "python",
   "name": "python3"
  },
  "language_info": {
   "codemirror_mode": {
    "name": "ipython",
    "version": 3
   },
   "file_extension": ".py",
   "mimetype": "text/x-python",
   "name": "python",
   "nbconvert_exporter": "python",
   "pygments_lexer": "ipython3",
   "version": "3.9.13"
  }
 },
 "nbformat": 4,
 "nbformat_minor": 2
}
