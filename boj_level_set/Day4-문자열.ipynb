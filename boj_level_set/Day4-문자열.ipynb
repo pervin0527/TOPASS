{
 "cells": [
  {
   "cell_type": "markdown",
   "metadata": {},
   "source": [
    "## 문제\n",
    "\n",
    "단어 $S$와 정수 $i$가 주어졌을 때, $S$의 $i$번째 글자를 출력하는 프로그램을 작성하시오.\n",
    "\n",
    "### 입력\n",
    "첫째 줄에 영어 소문자와 대문자로만 이루어진 단어 $S$가 주어진다. 단어의 길이는 최대 $1\\,000$이다.\n",
    "\n",
    "둘째 줄에 정수 $i$가 주어진다. $1 \\le i \\le \\left|S\\right|$\n",
    "\n",
    "### 출력\n",
    "$S$의 $i$번째 글자를 출력한다.\n",
    "\n",
    "### 예제 입력 1 \n",
    "Sprout  \n",
    "3  \n",
    "### 예제 출력 1 \n",
    "r  \n",
    "### 예제 입력 2 \n",
    "shiftpsh  \n",
    "6  \n",
    "### 예제 출력 2 \n",
    "p"
   ]
  },
  {
   "cell_type": "code",
   "execution_count": 3,
   "metadata": {},
   "outputs": [
    {
     "name": "stdout",
     "output_type": "stream",
     "text": [
      "r\n"
     ]
    }
   ],
   "source": [
    "vocab = input()\n",
    "idx = int(input())\n",
    "print(vocab[idx - 1])"
   ]
  },
  {
   "cell_type": "markdown",
   "metadata": {},
   "source": [
    "### 문제\n",
    "알파벳으로만 이루어진 단어를 입력받아, 그 길이를 출력하는 프로그램을 작성하시오.\n",
    "\n",
    "### 입력\n",
    "첫째 줄에 영어 소문자와 대문자로만 이루어진 단어가 주어진다. 단어의 길이는 최대 100이다.\n",
    "\n",
    "### 출력\n",
    "첫째 줄에 입력으로 주어진 단어의 길이를 출력한다.\n",
    "\n",
    "### 예제 입력 1 \n",
    "pulljima\n",
    "### 예제 출력 1 \n",
    "8"
   ]
  },
  {
   "cell_type": "code",
   "execution_count": 4,
   "metadata": {},
   "outputs": [
    {
     "name": "stdout",
     "output_type": "stream",
     "text": [
      "8\n"
     ]
    }
   ],
   "source": [
    "vocab = input()\n",
    "print(len(vocab))"
   ]
  },
  {
   "cell_type": "markdown",
   "metadata": {},
   "source": [
    "### 문제\n",
    "문자열을 입력으로 주면 문자열의 첫 글자와 마지막 글자를 출력하는 프로그램을 작성하시오.\n",
    "\n",
    "### 입력\n",
    "입력의 첫 줄에는 테스트 케이스의 개수 T(1 ≤ T ≤ 10)가 주어진다. 각 테스트 케이스는 한 줄에 하나의 문자열이 주어진다. 문자열은 알파벳 A~Z 대문자로 이루어지며 알파벳 사이에 공백은 없으며 문자열의 길이는 1000보다 작다.\n",
    "\n",
    "### 출력\n",
    "각 테스트 케이스에 대해서 주어진 문자열의 첫 글자와 마지막 글자를 연속하여 출력한다.\n",
    "\n",
    "### 예제 입력 1 \n",
    "3  \n",
    "ACDKJFOWIEGHE  \n",
    "O  \n",
    "AB  \n",
    "\n",
    "### 예제 출력 1 \n",
    "AE  \n",
    "OO  \n",
    "AB  "
   ]
  },
  {
   "cell_type": "code",
   "execution_count": 5,
   "metadata": {},
   "outputs": [
    {
     "name": "stdout",
     "output_type": "stream",
     "text": [
      "AE\n",
      "OO\n",
      "AB\n"
     ]
    }
   ],
   "source": [
    "n = int(input())\n",
    "\n",
    "for _ in range(n):\n",
    "    input_sentence = input()\n",
    "    first, last = input_sentence[0], input_sentence[-1]\n",
    "    print(first + last)"
   ]
  },
  {
   "cell_type": "markdown",
   "metadata": {},
   "source": [
    "### 문제\n",
    "알파벳 소문자, 대문자, 숫자 0-9중 하나가 주어졌을 때, 주어진 글자의 아스키 코드값을 출력하는 프로그램을 작성하시오.\n",
    "\n",
    "### 입력\n",
    "알파벳 소문자, 대문자, 숫자 0-9 중 하나가 첫째 줄에 주어진다.\n",
    "\n",
    "### 출력\n",
    "입력으로 주어진 글자의 아스키 코드 값을 출력한다.\n",
    "\n",
    "A -> 65 C -> 67  \n",
    "0 -> 48 9 -> 57  \n",
    "a -> 97 z -> 122  "
   ]
  },
  {
   "cell_type": "code",
   "execution_count": 10,
   "metadata": {},
   "outputs": [
    {
     "name": "stdout",
     "output_type": "stream",
     "text": [
      "48\n"
     ]
    }
   ],
   "source": [
    "upper = [\"A\", \"B\", \"C\", \"D\", \"E\", \"F\", \"G\", \"H\", \"I\", \"J\", \"K\", \"L\", \"M\", \"N\", \"O\", \"P\", \"Q\", \"R\", \"S\", \"T\", \"U\", \"V\", \"W\", \"X\", \"Y\", \"Z\"]\n",
    "lower = [x.lower() for x in upper]\n",
    "numbers = [x for x in range(0, 10)]\n",
    "\n",
    "s = input()\n",
    "if s in upper:\n",
    "    result = 65 + upper.index(s)\n",
    "elif s in lower:\n",
    "    result = 97 + lower.index(s)\n",
    "else:\n",
    "    result = 48 + numbers.index(int(s))\n",
    "\n",
    "print(result)"
   ]
  },
  {
   "cell_type": "markdown",
   "metadata": {},
   "source": [
    "### 문제\n",
    "N개의 숫자가 공백 없이 쓰여있다. 이 숫자를 모두 합해서 출력하는 프로그램을 작성하시오.\n",
    "\n",
    "### 입력\n",
    "첫째 줄에 숫자의 개수 N (1 ≤ N ≤ 100)이 주어진다. 둘째 줄에 숫자 N개가 공백없이 주어진다.\n",
    "\n",
    "### 출력\n",
    "입력으로 주어진 숫자 N개의 합을 출력한다.\n",
    "\n",
    "### 예제 입력 1 \n",
    "1  \n",
    "1  \n",
    "### 예제 출력 1 \n",
    "1\n",
    "### 예제 입력 2 \n",
    "5  \n",
    "54321\n",
    "### 예제 출력 2 \n",
    "15\n",
    "### 예제 입력 3 \n",
    "25  \n",
    "7000000000000000000000000  \n",
    "### 예제 출력 3 \n",
    "7\n",
    "### 예제 입력 4 \n",
    "11  \n",
    "10987654321\n",
    "### 예제 출력 4 \n",
    "46"
   ]
  },
  {
   "cell_type": "code",
   "execution_count": 12,
   "metadata": {},
   "outputs": [
    {
     "name": "stdout",
     "output_type": "stream",
     "text": [
      "46\n"
     ]
    }
   ],
   "source": [
    "n = int(input())\n",
    "nc = input()\n",
    "\n",
    "result = 0\n",
    "for c in nc:\n",
    "    if c == 0:\n",
    "        pass\n",
    "    else:\n",
    "        result += int(c)\n",
    "\n",
    "print(result)"
   ]
  },
  {
   "cell_type": "markdown",
   "metadata": {},
   "source": [
    "### 문제\n",
    "알파벳 소문자로만 이루어진 단어 S가 주어진다. 각각의 알파벳에 대해서, 단어에 포함되어 있는 경우에는 처음 등장하는 위치를, 포함되어 있지 않은 경우에는 -1을 출력하는 프로그램을 작성하시오.\n",
    "\n",
    "### 입력\n",
    "첫째 줄에 단어 S가 주어진다. 단어의 길이는 100을 넘지 않으며, 알파벳 소문자로만 이루어져 있다.\n",
    "\n",
    "### 출력\n",
    "각각의 알파벳에 대해서, a가 처음 등장하는 위치, b가 처음 등장하는 위치, ... z가 처음 등장하는 위치를 공백으로 구분해서 출력한다.\n",
    "\n",
    "만약, 어떤 알파벳이 단어에 포함되어 있지 않다면 -1을 출력한다. 단어의 첫 번째 글자는 0번째 위치이고, 두 번째 글자는 1번째 위치이다.\n",
    "\n",
    "### 예제 입력 1 \n",
    "baekjoon\n",
    "### 예제 출력 1 \n",
    "1 0 -1 -1 2 -1 -1 -1 -1 4 3 -1 -1 7 5 -1 -1 -1 -1 -1 -1 -1 -1 -1 -1 -1"
   ]
  },
  {
   "cell_type": "code",
   "execution_count": 14,
   "metadata": {},
   "outputs": [
    {
     "name": "stdout",
     "output_type": "stream",
     "text": [
      "[1, 0, -1, -1, 2, -1, -1, -1, -1, 4, 3, -1, -1, 7, 5, -1, -1, -1, -1, -1, -1, -1, -1, -1, -1, -1]\n"
     ]
    }
   ],
   "source": [
    "alphabets = [\"a\", \"b\", \"c\", \"d\", \"e\", \"f\", \"g\", \"h\", \"i\", \"j\", \"k\", \"l\", \"m\", \"n\", \"o\", \"p\", \"q\", \"r\", \"s\", \"t\", \"u\", \"v\", \"w\", \"x\", \"y\", \"z\"]\n",
    "sentence = input()\n",
    "\n",
    "result = []\n",
    "for alphabet in alphabets:\n",
    "    if alphabet in sentence:\n",
    "        result.append(sentence.index(alphabet))\n",
    "    else:\n",
    "        result.append(-1)\n",
    "\n",
    "for c in result:\n",
    "    print(c, end=\" \")"
   ]
  },
  {
   "cell_type": "markdown",
   "metadata": {},
   "source": [
    "### 문제\n",
    "문자열 S를 입력받은 후에, 각 문자를 R번 반복해 새 문자열 P를 만든 후 출력하는 프로그램을 작성하시오. 즉, 첫 번째 문자를 R번 반복하고, 두 번째 문자를 R번 반복하는 식으로 P를 만들면 된다. S에는 QR Code \"alphanumeric\" 문자만 들어있다.\n",
    "\n",
    "QR Code \"alphanumeric\" 문자는 0123456789ABCDEFGHIJKLMNOPQRSTUVWXYZ\\$%*+-./: 이다.\n",
    "\n",
    "### 입력\n",
    "첫째 줄에 테스트 케이스의 개수 T(1 ≤ T ≤ 1,000)가 주어진다. 각 테스트 케이스는 반복 횟수 R(1 ≤ R ≤ 8), 문자열 S가 공백으로 구분되어 주어진다. S의 길이는 적어도 1이며, 20글자를 넘지 않는다. \n",
    "\n",
    "### 출력\n",
    "각 테스트 케이스에 대해 P를 출력한다.\n",
    "\n",
    "### 예제 입력 1 \n",
    "2  \n",
    "3 ABC  \n",
    "5 /HTP  \n",
    "### 예제 출력 1 \n",
    "AAABBBCCC  \n",
    "/////HHHHHTTTTTPPPPP  "
   ]
  },
  {
   "cell_type": "code",
   "execution_count": 18,
   "metadata": {},
   "outputs": [
    {
     "name": "stdout",
     "output_type": "stream",
     "text": [
      "AAABBBCCC\n",
      "/////HHHHHTTTTTPPPPP\n"
     ]
    }
   ],
   "source": [
    "n = int(input())\n",
    "\n",
    "for _ in range(n):\n",
    "    i, s = input().split()\n",
    "\n",
    "    result = \"\"\n",
    "    for x in s:\n",
    "        for _ in range(int(i)):\n",
    "            result = result + x\n",
    "\n",
    "    print(result)"
   ]
  },
  {
   "cell_type": "markdown",
   "metadata": {},
   "source": [
    "### 문제\n",
    "영어 대소문자와 공백으로 이루어진 문자열이 주어진다. 이 문자열에는 몇 개의 단어가 있을까? 이를 구하는 프로그램을 작성하시오. 단, 한 단어가 여러 번 등장하면 등장한 횟수만큼 모두 세어야 한다.\n",
    "\n",
    "### 입력\n",
    "첫 줄에 영어 대소문자와 공백으로 이루어진 문자열이 주어진다. 이 문자열의 길이는 1,000,000을 넘지 않는다. 단어는 공백 한 개로 구분되며, 공백이 연속해서 나오는 경우는 없다. 또한 문자열은 공백으로 시작하거나 끝날 수 있다.\n",
    "\n",
    "### 출력\n",
    "첫째 줄에 단어의 개수를 출력한다.\n",
    "\n",
    "### 예제 입력 1 \n",
    "The Curious Case of Benjamin Button\n",
    "\n",
    "### 예제 출력 1 \n",
    "6\n",
    "\n",
    "### 예제 입력 2 \n",
    " The first character is a blank\n",
    "\n",
    "### 예제 출력 2 \n",
    "6\n",
    "\n",
    "### 예제 입력 3 \n",
    "The last character is a blank \n",
    "\n",
    "### 예제 출력 3 \n",
    "6"
   ]
  },
  {
   "cell_type": "code",
   "execution_count": 21,
   "metadata": {},
   "outputs": [
    {
     "name": "stdout",
     "output_type": "stream",
     "text": [
      "6\n"
     ]
    }
   ],
   "source": [
    "sentence = input().strip().split()\n",
    "print(len(sentence))"
   ]
  },
  {
   "cell_type": "markdown",
   "metadata": {},
   "source": [
    "### 문제\n",
    "상근이의 동생 상수는 수학을 정말 못한다. 상수는 숫자를 읽는데 문제가 있다. 이렇게 수학을 못하는 상수를 위해서 상근이는 수의 크기를 비교하는 문제를 내주었다. 상근이는 세 자리 수 두 개를 칠판에 써주었다. 그 다음에 크기가 큰 수를 말해보라고 했다.\n",
    "\n",
    "상수는 수를 다른 사람과 다르게 거꾸로 읽는다. 예를 들어, 734와 893을 칠판에 적었다면, 상수는 이 수를 437과 398로 읽는다. 따라서, 상수는 두 수중 큰 수인 437을 큰 수라고 말할 것이다.\n",
    "\n",
    "두 수가 주어졌을 때, 상수의 대답을 출력하는 프로그램을 작성하시오.\n",
    "\n",
    "### 입력\n",
    "첫째 줄에 상근이가 칠판에 적은 두 수 A와 B가 주어진다. 두 수는 같지 않은 세 자리 수이며, 0이 포함되어 있지 않다.\n",
    "\n",
    "### 출력\n",
    "첫째 줄에 상수의 대답을 출력한다.\n",
    "\n",
    "### 예제 입력 1 \n",
    "734 893\n",
    "### 예제 출력 1 \n",
    "437\n",
    "### 예제 입력 2 \n",
    "221 231\n",
    "### 예제 출력 2 \n",
    "132\n",
    "### 예제 입력 3 \n",
    "839 237\n",
    "### 예제 출력 3 \n",
    "938"
   ]
  },
  {
   "cell_type": "code",
   "execution_count": 22,
   "metadata": {},
   "outputs": [
    {
     "name": "stdout",
     "output_type": "stream",
     "text": [
      "437\n"
     ]
    }
   ],
   "source": [
    "a, b = input().split()\n",
    "a, b = a[::-1], b[::-1]\n",
    "\n",
    "print(max(a, b))"
   ]
  },
  {
   "cell_type": "markdown",
   "metadata": {},
   "source": [
    "### 문제\n",
    "상근이의 할머니는 아래 그림과 같이 오래된 다이얼 전화기를 사용한다.\n",
    "\n",
    "전화를 걸고 싶은 번호가 있다면, 숫자를 하나를 누른 다음에 금속 핀이 있는 곳 까지 시계방향으로 돌려야 한다. 숫자를 하나 누르면 다이얼이 처음 위치로 돌아가고, 다음 숫자를 누르려면 다이얼을 처음 위치에서 다시 돌려야 한다.\n",
    "\n",
    "숫자 1을 걸려면 총 2초가 필요하다. 1보다 큰 수를 거는데 걸리는 시간은 이보다 더 걸리며, 한 칸 옆에 있는 숫자를 걸기 위해선 1초씩 더 걸린다.\n",
    "\n",
    "상근이의 할머니는 전화 번호를 각 숫자에 해당하는 문자로 외운다. 즉, 어떤 단어를 걸 때, 각 알파벳에 해당하는 숫자를 걸면 된다. 예를 들어, UNUCIC는 868242와 같다.\n",
    "\n",
    "할머니가 외운 단어가 주어졌을 때, 이 전화를 걸기 위해서 필요한 최소 시간을 구하는 프로그램을 작성하시오.\n",
    "\n",
    "### 입력\n",
    "첫째 줄에 알파벳 대문자로 이루어진 단어가 주어진다. 단어의 길이는 2보다 크거나 같고, 15보다 작거나 같다.\n",
    "\n",
    "### 출력\n",
    "첫째 줄에 다이얼을 걸기 위해서 필요한 최소 시간을 출력한다."
   ]
  },
  {
   "cell_type": "code",
   "execution_count": 24,
   "metadata": {},
   "outputs": [
    {
     "name": "stdout",
     "output_type": "stream",
     "text": [
      "36\n"
     ]
    }
   ],
   "source": [
    "vocab = input()\n",
    "\n",
    "time = 0\n",
    "for c in vocab:\n",
    "    if c in [\"A\", \"B\", \"C\"]:\n",
    "        time += 3\n",
    "    elif c in [\"D\", \"E\", \"F\"]:\n",
    "        time += 4\n",
    "    elif c in [\"G\", \"H\", \"I\"]:\n",
    "        time += 5\n",
    "    elif c in [\"J\", \"K\", \"L\"]:\n",
    "        time += 6\n",
    "    elif c in [\"M\", \"N\", \"O\"]:\n",
    "        time += 7\n",
    "    elif c in [\"P\", \"Q\", \"R\", \"S\"]:\n",
    "        time += 8\n",
    "    elif c in [\"T\", \"U\", \"V\"]:\n",
    "        time += 9\n",
    "    elif c in [\"W\", \"X\", \"Y\", \"Z\"]:\n",
    "        time += 10\n",
    "\n",
    "print(time)"
   ]
  },
  {
   "cell_type": "markdown",
   "metadata": {},
   "source": [
    "### 문제\n",
    "입력 받은 대로 출력하는 프로그램을 작성하시오.\n",
    "\n",
    "### 입력\n",
    "입력이 주어진다. 입력은 최대 100줄로 이루어져 있고, 알파벳 소문자, 대문자, 공백, 숫자로만 이루어져 있다. 각 줄은 100글자를 넘지 않으며, 빈 줄은 주어지지 않는다. 또, 각 줄은 공백으로 시작하지 않고, 공백으로 끝나지 않는다.\n",
    "\n",
    "### 출력\n",
    "입력받은 그대로 출력한다.\n",
    "\n",
    "### 예제 입력 1 \n",
    "Hello  \n",
    "Baekjoon  \n",
    "Online Judge  \n",
    "\n",
    "### 예제 출력 1 \n",
    "Hello  \n",
    "Baekjoon  \n",
    "Online Judge  "
   ]
  },
  {
   "cell_type": "code",
   "execution_count": null,
   "metadata": {},
   "outputs": [],
   "source": [
    "try:\n",
    "    while True:\n",
    "        line = input()\n",
    "        print(line)\n",
    "except EOFError:\n",
    "    pass\n"
   ]
  }
 ],
 "metadata": {
  "kernelspec": {
   "display_name": "base",
   "language": "python",
   "name": "python3"
  },
  "language_info": {
   "codemirror_mode": {
    "name": "ipython",
    "version": 3
   },
   "file_extension": ".py",
   "mimetype": "text/x-python",
   "name": "python",
   "nbconvert_exporter": "python",
   "pygments_lexer": "ipython3",
   "version": "3.9.0"
  }
 },
 "nbformat": 4,
 "nbformat_minor": 2
}
