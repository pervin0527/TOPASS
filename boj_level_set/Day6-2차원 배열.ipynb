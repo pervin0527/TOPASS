{
 "cells": [
  {
   "cell_type": "markdown",
   "metadata": {},
   "source": [
    "문제\n",
    "\n",
    "N*M크기의 두 행렬 A와 B가 주어졌을 때, 두 행렬을 더하는 프로그램을 작성하시오.\n",
    "\n",
    "입력\n",
    "\n",
    "첫째 줄에 행렬의 크기 N 과 M이 주어진다. 둘째 줄부터 N개의 줄에 행렬 A의 원소 M개가 차례대로 주어진다. 이어서 N개의 줄에 행렬 B의 원소 M개가 차례대로 주어진다. N과 M은 100보다 작거나 같고, 행렬의 원소는 절댓값이 100보다 작거나 같은 정수이다.\n",
    "\n",
    "출력\n",
    "\n",
    "첫째 줄부터 N개의 줄에 행렬 A와 B를 더한 행렬을 출력한다. 행렬의 각 원소는 공백으로 구분한다.\n",
    "\n",
    "예제 입력 1\n",
    "\n",
    "3 3  \n",
    "1 1 1  \n",
    "2 2 2  \n",
    "0 1 0  \n",
    "3 3 3  \n",
    "4 4 4  \n",
    "5 5 100  \n",
    "\n",
    "예제 출력 1   \n",
    "4 4 4  \n",
    "6 6 6  \n",
    "5 6 100  \n",
    "\n",
    "예제 입력 2  \n",
    "2 3  \n",
    "1 1 1    \n",
    "2 2 2  \n",
    "3 3 3  \n",
    "4 4 4  \n",
    "\n",
    "예제 출력 2  \n",
    "4 4 4  \n",
    "6 6 6  "
   ]
  },
  {
   "cell_type": "code",
   "execution_count": 16,
   "metadata": {},
   "outputs": [
    {
     "name": "stdout",
     "output_type": "stream",
     "text": [
      "4 4 4 \n",
      "6 6 6 \n",
      "5 6 100 \n"
     ]
    }
   ],
   "source": [
    "rows, cols = map(int, input().split())\n",
    "\n",
    "A, B = [], []\n",
    "for i in range(rows * 2):\n",
    "    input_row = list(map(int, input().split()))\n",
    "    if i < rows:\n",
    "        A.append(input_row)\n",
    "    else:\n",
    "        B.append(input_row)\n",
    "\n",
    "for i in range(rows):\n",
    "    for j in range(cols):\n",
    "        print(A[i][j] + B[i][j], end=\" \")\n",
    "    print()"
   ]
  },
  {
   "cell_type": "markdown",
   "metadata": {},
   "source": [
    "![imgs](./imgs/Day6-최댓값.png)"
   ]
  },
  {
   "cell_type": "code",
   "execution_count": null,
   "metadata": {},
   "outputs": [],
   "source": [
    "max_value = 0\n",
    "r, c = 0, 0\n",
    "\n",
    "# test = [[3, 23,85, 34, 17, 74, 25, 52, 65],\n",
    "#         [10, 7, 39, 42, 88, 52, 14, 72, 63],\n",
    "#         [87, 42, 18, 78, 53, 45, 18, 84, 53],\n",
    "#         [34, 28, 64, 85, 12, 16, 75, 36, 55],\n",
    "#         [21, 77, 45, 35, 28, 75, 90, 76, 1],\n",
    "#         [25, 87, 65, 15, 28, 11, 37, 28, 74],\n",
    "#         [65, 27, 75, 41, 7, 89, 78, 64, 39],\n",
    "#         [47, 47, 70, 45, 23, 65, 3, 41, 44],\n",
    "#         [87, 13, 82, 38, 31, 12, 29,  29,  80]]\n",
    "\n",
    "\n",
    "for i in range(9):\n",
    "    numbers = list(map(int, input().split()))\n",
    "    # numbers = test[i]\n",
    "    for j in range(9):\n",
    "        number = numbers[j]\n",
    "        if number >= max_value:\n",
    "            max_value = number\n",
    "            r, c = i+1, j+1\n",
    "\n",
    "print(max_value)\n",
    "print(r, c)"
   ]
  },
  {
   "cell_type": "markdown",
   "metadata": {},
   "source": [
    "문제  \n",
    "아직 글을 모르는 영석이가 벽에 걸린 칠판에 자석이 붙어있는 글자들을 붙이는 장난감을 가지고 놀고 있다. \n",
    "\n",
    "이 장난감에 있는 글자들은 영어 대문자 ‘A’부터 ‘Z’, 영어 소문자 ‘a’부터 ‘z’, 숫자 ‘0’부터 ‘9’이다. 영석이는 칠판에 글자들을 수평으로 일렬로 붙여서 단어를 만든다. 다시 그 아래쪽에 글자들을 붙여서 또 다른 단어를 만든다. 이런 식으로 다섯 개의 단어를 만든다. 아래 그림 1은 영석이가 칠판에 붙여 만든 단어들의 예이다. \n",
    "\n",
    "A A B C D D  \n",
    "a f z z   \n",
    "0 9 1 2 1  \n",
    "a 8 E W g 6  \n",
    "P 5 h 3 k x  \n",
    "<그림 1>  \n",
    "\n",
    "한 줄의 단어는 글자들을 빈칸 없이 연속으로 나열해서 최대 15개의 글자들로 이루어진다. 또한 만들어진 다섯 개의 단어들의 글자 개수는 서로 다를 수 있다. \n",
    "\n",
    "심심해진 영석이는 칠판에 만들어진 다섯 개의 단어를 세로로 읽으려 한다. 세로로 읽을 때, 각 단어의 첫 번째 글자들을 위에서 아래로 세로로 읽는다. 다음에 두 번째 글자들을 세로로 읽는다. 이런 식으로 왼쪽에서 오른쪽으로 한 자리씩 이동 하면서 동일한 자리의 글자들을 세로로 읽어 나간다. 위의 그림 1의 다섯 번째 자리를 보면 두 번째 줄의 다섯 번째 자리의 글자는 없다. 이런 경우처럼 세로로 읽을 때 해당 자리의 글자가 없으면, 읽지 않고 그 다음 글자를 계속 읽는다. 그림 1의 다섯 번째 자리를 세로로 읽으면 D1gk로 읽는다. \n",
    "\n",
    "그림 1에서 영석이가 세로로 읽은 순서대로 글자들을 공백 없이 출력하면 다음과 같다:\n",
    "\n",
    "Aa0aPAf985Bz1EhCz2W3D1gkD6x\n",
    "\n",
    "칠판에 붙여진 단어들이 주어질 때, 영석이가 세로로 읽은 순서대로 글자들을 출력하는 프로그램을 작성하시오.\n",
    "\n",
    "입력\n",
    "총 다섯줄의 입력이 주어진다. 각 줄에는 최소 1개, 최대 15개의 글자들이 빈칸 없이 연속으로 주어진다. 주어지는 글자는 영어 대문자 ‘A’부터 ‘Z’, 영어 소문자 ‘a’부터 ‘z’, 숫자 ‘0’부터 ‘9’ 중 하나이다. 각 줄의 시작과 마지막에 빈칸은 없다.\n",
    "\n",
    "출력\n",
    "영석이가 세로로 읽은 순서대로 글자들을 출력한다. 이때, 글자들을 공백 없이 연속해서 출력한다. \n",
    "\n",
    "예제 입력 1   \n",
    "ABCDE  \n",
    "abcde  \n",
    "01234  \n",
    "FGHIJ  \n",
    "fghij  \n",
    "\n",
    "예제 출력 1  \n",
    "Aa0FfBb1GgCc2HhDd3IiEe4Jj  \n",
    "\n",
    "예제 입력 2   \n",
    "AABCDD  \n",
    "afzz  \n",
    "09121  \n",
    "a8EWg6  \n",
    "P5h3kx  \n",
    "\n",
    "예제 출력 2   \n",
    "Aa0aPAf985Bz1EhCz2W3D1gkD6x"
   ]
  },
  {
   "cell_type": "code",
   "execution_count": 37,
   "metadata": {},
   "outputs": [
    {
     "name": "stdout",
     "output_type": "stream",
     "text": [
      "Aa0aPAf985Bz1EhCz2W3D1gkD6x\n"
     ]
    }
   ],
   "source": [
    "# test = [\"ABCDE\", \"abcde\", \"01234\", \"FGHIJ\", \"fghij\"]\n",
    "\n",
    "# test = [\"AABCDD\", \"afzz\", \"09121\", \"a8EWg6\", \"P5h3kx\"]\n",
    "\n",
    "inputs = []\n",
    "for i in range(5):\n",
    "    line = [c for c in input()]\n",
    "    # line = [c for c in test[i]]\n",
    "    if len(line) < 15:\n",
    "        line += [\" \"] * (15 - len(line))\n",
    "    \n",
    "    inputs.append(line)\n",
    "\n",
    "result = \"\"\n",
    "for i in range(15):\n",
    "    for j in range(5):\n",
    "        if inputs[j][i] != \" \":\n",
    "            result += inputs[j][i]\n",
    "\n",
    "print(result)\n",
    "# \"Aa0FfBb1GgCc2HhDd3IiEe4Jj\"\n",
    "# \"Aa0aPAf985Bz1EhCz2W3D1gkD6x\""
   ]
  },
  {
   "cell_type": "markdown",
   "metadata": {},
   "source": [
    "![imgs](./imgs/Day6-색종이.png)"
   ]
  },
  {
   "cell_type": "code",
   "execution_count": 63,
   "metadata": {},
   "outputs": [
    {
     "name": "stdout",
     "output_type": "stream",
     "text": [
      "260\n"
     ]
    }
   ],
   "source": [
    "n_papers = int(input())\n",
    "\n",
    "background = []\n",
    "for _ in range(101):\n",
    "    background.append([0 for _ in range(101)])\n",
    "\n",
    "## 색종이는 가로, 세로가 10인 정사각형.\n",
    "for n in range(n_papers):\n",
    "    ## 첫번째 자연수는 색종이의 왼쪽 변과 도화지의 왼쪽 변 사이의 거리 -> 도화지의 column index.\n",
    "    ## 두번째 자연수는 색종이의 아래쪽 변과 도화지의 아래쪽 변 사이의 거리. ->  도화지의 row index.\n",
    "    x, y = map(int, input().split())\n",
    "\n",
    "    for row in range(x, x+10):\n",
    "        for col in range(y, y+10):\n",
    "            background[row][col] = 1\n",
    "    \n",
    "result = 0\n",
    "for i in background:\n",
    "    result += i.count(1)\n",
    "\n",
    "print(result)"
   ]
  },
  {
   "cell_type": "code",
   "execution_count": null,
   "metadata": {},
   "outputs": [],
   "source": []
  }
 ],
 "metadata": {
  "kernelspec": {
   "display_name": "base",
   "language": "python",
   "name": "python3"
  },
  "language_info": {
   "codemirror_mode": {
    "name": "ipython",
    "version": 3
   },
   "file_extension": ".py",
   "mimetype": "text/x-python",
   "name": "python",
   "nbconvert_exporter": "python",
   "pygments_lexer": "ipython3",
   "version": "3.9.0"
  }
 },
 "nbformat": 4,
 "nbformat_minor": 2
}
