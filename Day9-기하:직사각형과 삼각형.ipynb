{
 "cells": [
  {
   "cell_type": "code",
   "execution_count": 4,
   "metadata": {},
   "outputs": [
    {
     "name": "stdout",
     "output_type": "stream",
     "text": [
      "10\n"
     ]
    }
   ],
   "source": [
    "## https://www.acmicpc.net/problem/27323\n",
    "\n",
    "A = int(input())\n",
    "B = int(input())\n",
    "\n",
    "print(A * B)"
   ]
  },
  {
   "cell_type": "code",
   "execution_count": 5,
   "metadata": {},
   "outputs": [
    {
     "name": "stdout",
     "output_type": "stream",
     "text": [
      "1\n"
     ]
    }
   ],
   "source": [
    "## https://www.acmicpc.net/problem/1085\n",
    "x, y, w, h = map(int, input().split())\n",
    "\n",
    "print(min(x, w-x, y, h-y))"
   ]
  },
  {
   "cell_type": "code",
   "execution_count": 17,
   "metadata": {},
   "outputs": [
    {
     "name": "stdout",
     "output_type": "stream",
     "text": [
      "30 10\n"
     ]
    }
   ],
   "source": [
    "## https://www.acmicpc.net/problem/3009\n",
    "\n",
    "coords = []\n",
    "for idx in range(3):\n",
    "    x, y = map(int, input().split())\n",
    "\n",
    "    coords.append([x, y])\n",
    "\n",
    "coords = sorted(coords, key=lambda coord : coord[0]) ## 좌하단, 우하단, 좌상단, 우상단\n",
    "\n",
    "x_values = [x for x, y in coords]\n",
    "y_values = [y for x, y in coords]\n",
    "\n",
    "min_x = min(x_values)\n",
    "max_x = max(x_values)\n",
    "min_y = min(y_values)\n",
    "max_y = max(y_values)\n",
    "\n",
    "for c in [[min_x, min_y], [max_x, min_y], [min_x, max_y], [max_x, max_y]]:\n",
    "    if c not in coords:\n",
    "        print(c[0], c[1])\n",
    "        break"
   ]
  },
  {
   "cell_type": "code",
   "execution_count": null,
   "metadata": {},
   "outputs": [],
   "source": [
    "## https://www.acmicpc.net/problem/15894\n",
    "n = int(input())\n",
    "\n",
    "print(4 * n)"
   ]
  },
  {
   "cell_type": "code",
   "execution_count": 20,
   "metadata": {},
   "outputs": [
    {
     "name": "stdout",
     "output_type": "stream",
     "text": [
      "9\n"
     ]
    }
   ],
   "source": [
    "## https://www.acmicpc.net/problem/9063\n",
    "\n",
    "n = int(input())\n",
    "\n",
    "xs, ys = [], []\n",
    "for _ in range(n):\n",
    "    x, y = map(int, input().split())\n",
    "    xs.append(x)\n",
    "    ys.append(y)\n",
    "\n",
    "xmin, xmax = min(xs), max(xs)\n",
    "ymin, ymax = min(ys), max(ys)\n",
    "\n",
    "width = xmax - xmin\n",
    "height = ymax - ymin\n",
    "print(width * height)"
   ]
  },
  {
   "cell_type": "code",
   "execution_count": 21,
   "metadata": {},
   "outputs": [
    {
     "name": "stdout",
     "output_type": "stream",
     "text": [
      "Equilateral\n"
     ]
    }
   ],
   "source": [
    "## https://www.acmicpc.net/problem/10101\n",
    "\"\"\"\n",
    "세 각의 크기가 모두 60이면, Equilateral\n",
    "세 각의 합이 180이고, 두 각이 같은 경우에는 Isosceles\n",
    "세 각의 합이 180이고, 같은 각이 없는 경우에는 Scalene\n",
    "세 각의 합이 180이 아닌 경우에는 Error\n",
    "\"\"\"\n",
    "\n",
    "deg_list = []\n",
    "for _ in range(3):\n",
    "    deg_list.append(int(input()))\n",
    "\n",
    "if sum(deg_list) != 180:\n",
    "    print(\"Error\")\n",
    "\n",
    "else:\n",
    "    if all(deg == 60 for deg in deg_list):\n",
    "        print(\"Equilateral\")\n",
    "    elif deg_list[0] == deg_list[1] or deg_list[0] == deg_list[2] or deg_list[1] == deg_list[2]:\n",
    "        print(\"Isosceles\")\n",
    "    elif deg_list[0] != deg_list[1] and deg_list[1] != deg_list[2] and deg_list[0] != deg_list[2]:\n",
    "        print(\"Scalene\")"
   ]
  },
  {
   "cell_type": "code",
   "execution_count": null,
   "metadata": {},
   "outputs": [],
   "source": [
    "## 개선버전\n",
    "\n",
    "deg_list = []\n",
    "for i in range(3):\n",
    "    degree = int(input(f\"각도 {i+1}을 입력하세요: \"))\n",
    "    if degree <= 0 or degree > 180:\n",
    "        print(\"유효하지 않은 각도입니다.\")\n",
    "        exit()\n",
    "    deg_list.append(degree)\n",
    "\n",
    "if sum(deg_list) != 180:\n",
    "    print(\"Error\")\n",
    "elif len(set(deg_list)) == 1:\n",
    "    print(\"Equilateral\")\n",
    "elif len(set(deg_list)) == 2:\n",
    "    print(\"Isosceles\")\n",
    "else:\n",
    "    print(\"Scalene\")"
   ]
  },
  {
   "cell_type": "code",
   "execution_count": 26,
   "metadata": {},
   "outputs": [
    {
     "name": "stdout",
     "output_type": "stream",
     "text": [
      "Invalid\n",
      "Isosceles\n"
     ]
    }
   ],
   "source": [
    "## https://www.acmicpc.net/problem/5073\n",
    "\n",
    "\"\"\"\n",
    "Equilateral :  세 변의 길이가 모두 같은 경우\n",
    "Isosceles : 두 변의 길이만 같은 경우\n",
    "Scalene : 세 변의 길이가 모두 다른 경우\n",
    "\"\"\"\n",
    "\n",
    "while True:\n",
    "    values = sorted(list(map(int, input().split())))\n",
    "\n",
    "    if all(x == 0 for x in values):\n",
    "        break\n",
    "\n",
    "    if values[2] >= values[0] + values[1]:\n",
    "        print(\"Invalid\")\n",
    "        \n",
    "    elif len(set(values)) == 1:\n",
    "        print(\"Equilateral\")\n",
    "\n",
    "    elif len(set(values)) == 2:\n",
    "        print(\"Isosceles\")\n",
    "\n",
    "    else:\n",
    "        print(\"Scalene\")\n"
   ]
  },
  {
   "cell_type": "code",
   "execution_count": 34,
   "metadata": {},
   "outputs": [
    {
     "name": "stdout",
     "output_type": "stream",
     "text": [
      "3\n"
     ]
    }
   ],
   "source": [
    "## https://www.acmicpc.net/problem/14215\n",
    "\n",
    "sides = sorted(list(map(int, input().split())))\n",
    "\n",
    "if len(set(sides)) == 1:\n",
    "    pass\n",
    "\n",
    "elif sides[0] + sides[1] <= sides[2]:\n",
    "    sides[2] = (sides[0] + sides[1]) - 1\n",
    "\n",
    "print(sum(sides))"
   ]
  }
 ],
 "metadata": {
  "kernelspec": {
   "display_name": "base",
   "language": "python",
   "name": "python3"
  },
  "language_info": {
   "codemirror_mode": {
    "name": "ipython",
    "version": 3
   },
   "file_extension": ".py",
   "mimetype": "text/x-python",
   "name": "python",
   "nbconvert_exporter": "python",
   "pygments_lexer": "ipython3",
   "version": "3.9.13"
  }
 },
 "nbformat": 4,
 "nbformat_minor": 2
}
