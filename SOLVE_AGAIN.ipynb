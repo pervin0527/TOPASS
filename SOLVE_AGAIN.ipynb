{
 "cells": [
  {
   "cell_type": "code",
   "execution_count": null,
   "metadata": {},
   "outputs": [],
   "source": []
  },
  {
   "cell_type": "code",
   "execution_count": 10,
   "metadata": {},
   "outputs": [
    {
     "name": "stdout",
     "output_type": "stream",
     "text": [
      "1 2\n",
      "1 3\n",
      "1 4\n",
      "2 1\n",
      "2 3\n",
      "2 4\n",
      "3 1\n",
      "3 2\n",
      "3 4\n",
      "4 1\n",
      "4 2\n",
      "4 3\n"
     ]
    }
   ],
   "source": [
    "\"\"\"\n",
    "https://www.acmicpc.net/problem/15649\n",
    "\"\"\"\n",
    "\n",
    "n, m = map(int, input().split())\n",
    "result = [0] * m\n",
    "is_used = [False] * n\n",
    "\n",
    "def func(x):\n",
    "    if x == m:\n",
    "        print(\" \".join([str(r) for r in result]))\n",
    "        return\n",
    "    \n",
    "    for i in range(n):\n",
    "        if not is_used[i]:\n",
    "            result[x] = i + 1 ## 현재 단계에 선택한 숫자를 수열에 저장.\n",
    "            is_used[i] = True ## 선택한 숫자가 이미 사용되었음을 체크리스트에 기록.\n",
    "            func(x + 1)\n",
    "            is_used[i] = False\n",
    "\n",
    "func(0)"
   ]
  },
  {
   "cell_type": "code",
   "execution_count": 15,
   "metadata": {},
   "outputs": [
    {
     "name": "stdout",
     "output_type": "stream",
     "text": [
      "92\n"
     ]
    }
   ],
   "source": [
    "\"\"\"\n",
    "https://www.acmicpc.net/problem/9663\n",
    "\"\"\"\n",
    "\n",
    "n = int(input())\n",
    "count = 0\n",
    "is_used1 = [False] * n\n",
    "is_used2 = [False] * (2 * n - 1) ## top left -> bot right(x - y)\n",
    "is_used3 = [False] * (2 * n - 1) ## top right -> bot left(x + y)\n",
    "\n",
    "def func(cur):\n",
    "    global count\n",
    "    if cur == n:\n",
    "        count += 1\n",
    "        return\n",
    "    \n",
    "    for i in range(n):\n",
    "        if is_used1[i] or is_used2[i + cur] or is_used3[i - cur + n-1]:\n",
    "            continue\n",
    "        \n",
    "        is_used1[i] = True\n",
    "        is_used2[i+cur]=True\n",
    "        is_used3[i-cur+n-1]=True\n",
    "        func(cur+1)\n",
    "        is_used1[i] = False\n",
    "        is_used2[i+cur]=False\n",
    "        is_used3[i-cur+n-1]=False\n",
    "\n",
    "func(0)\n",
    "print(count)"
   ]
  },
  {
   "cell_type": "code",
   "execution_count": 20,
   "metadata": {},
   "outputs": [
    {
     "name": "stdout",
     "output_type": "stream",
     "text": [
      "1\n"
     ]
    }
   ],
   "source": [
    "\"\"\"\n",
    "https://www.acmicpc.net/problem/1182\n",
    "\"\"\"\n",
    "\n",
    "n, s = map(int, input().split())\n",
    "arr = list(map(int, input().split()))\n",
    "is_used = [False] * n\n",
    "\n",
    "if s == 0:\n",
    "    count = -1\n",
    "else:\n",
    "    count = 0\n",
    "\n",
    "def func(tmp, total):\n",
    "    global count\n",
    "    if tmp == n:\n",
    "        if total == s:\n",
    "            count += 1\n",
    "        return\n",
    "    \n",
    "    func(tmp+1, total)\n",
    "    func(tmp+1, total+arr[tmp])\n",
    "\n",
    "func(0, 0)\n",
    "print(count)"
   ]
  },
  {
   "cell_type": "code",
   "execution_count": null,
   "metadata": {},
   "outputs": [],
   "source": []
  }
 ],
 "metadata": {
  "kernelspec": {
   "display_name": "base",
   "language": "python",
   "name": "python3"
  },
  "language_info": {
   "codemirror_mode": {
    "name": "ipython",
    "version": 3
   },
   "file_extension": ".py",
   "mimetype": "text/x-python",
   "name": "python",
   "nbconvert_exporter": "python",
   "pygments_lexer": "ipython3",
   "version": "3.9.13"
  }
 },
 "nbformat": 4,
 "nbformat_minor": 2
}
