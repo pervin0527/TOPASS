{
 "cells": [
  {
   "cell_type": "markdown",
   "metadata": {},
   "source": [
    "## BOJ 1074 - Z\n",
    "[https://www.acmicpc.net/problem/1074](https://www.acmicpc.net/problem/1074)"
   ]
  },
  {
   "cell_type": "code",
   "execution_count": null,
   "metadata": {},
   "outputs": [],
   "source": [
    "n, r, c = map(int, input().split())\n",
    "\n",
    "def func(tmp, row, col):\n",
    "    if tmp == 0:\n",
    "        return 0\n",
    "    \n",
    "    half = 2 ** (tmp-1)\n",
    "    if row < half and col < half:\n",
    "        return func(tmp-1, row, col)\n",
    "    \n",
    "    if r < half and col >= half:\n",
    "        return half * half + func(tmp-1, row, col-half)\n",
    "    \n",
    "    if r >= half and col < half:\n",
    "        return 2 * half * half + func(tmp-1, row-half, col)\n",
    "    \n",
    "    return 3 * half * half + func(tmp-1, row-half, col-half)\n",
    "\n",
    "print(func(n, r, c))"
   ]
  },
  {
   "cell_type": "markdown",
   "metadata": {},
   "source": [
    "## BOJ 1780 - 종이의 개수\n",
    "[https://www.acmicpc.net/problem/1780](https://www.acmicpc.net/problem/1780)"
   ]
  },
  {
   "cell_type": "code",
   "execution_count": 18,
   "metadata": {},
   "outputs": [
    {
     "name": "stdout",
     "output_type": "stream",
     "text": [
      "10\n",
      "12\n",
      "11\n"
     ]
    }
   ],
   "source": [
    "n = int(input())\n",
    "matrix = [list(map(int, input().split())) for _ in range(n)]\n",
    "result = {-1 : 0, 0 : 0, 1 : 0}\n",
    "\n",
    "def check_matrix(m, cx, cy, s):\n",
    "    curr_item = m[cx][cy]\n",
    "    for x in range(cx, cx+s): ## cx = 0, cx+s = 0+9 = 9\n",
    "        for y in range(cy, cy+s):\n",
    "            if curr_item != m[x][y]:\n",
    "                return False\n",
    "    return True\n",
    "\n",
    "def divide_matrix(m, x, y, s):\n",
    "    if check_matrix(m, x, y, s):\n",
    "        result[m[x][y]] += 1\n",
    "        return\n",
    "\n",
    "    new_s = s // 3\n",
    "    for i in range(3):\n",
    "        for j in range(3):\n",
    "            divide_matrix(m, x + i * new_s, y + j * new_s, new_s)\n",
    "\n",
    "divide_matrix(matrix, 0, 0, n)\n",
    "result = list(result.values())\n",
    "for r in result:\n",
    "    print(r)"
   ]
  },
  {
   "cell_type": "markdown",
   "metadata": {},
   "source": [
    "## BOJ 2630 - 색종이 만들기\n",
    "[https://www.acmicpc.net/problem/2630](https://www.acmicpc.net/problem/2630)"
   ]
  },
  {
   "cell_type": "code",
   "execution_count": 22,
   "metadata": {},
   "outputs": [
    {
     "name": "stdout",
     "output_type": "stream",
     "text": [
      "9\n",
      "7\n"
     ]
    }
   ],
   "source": [
    "n = int(input())\n",
    "matrix = [list(map(int, input().split())) for _ in range(n)]\n",
    "result = {0 : 0, 1 : 0}\n",
    "\n",
    "def check_matrix(m, cx, cy, s):\n",
    "    curr_item = m[cx][cy]\n",
    "    for x in range(cx, cx+s): ## cx = 0, cx+s = 0+9 = 9\n",
    "        for y in range(cy, cy+s):\n",
    "            if curr_item != m[x][y]:\n",
    "                return False\n",
    "    return True\n",
    "\n",
    "def divide_matrix(m, x, y, s):\n",
    "    if check_matrix(m, x, y, s):\n",
    "        result[m[x][y]] += 1\n",
    "        return\n",
    "\n",
    "    new_s = s // 2\n",
    "    for i in range(2):\n",
    "        for j in range(2):\n",
    "            divide_matrix(m, x + i * new_s, y + j * new_s, new_s)\n",
    "\n",
    "divide_matrix(matrix, 0, 0, n)\n",
    "result = list(result.values())\n",
    "for r in result:\n",
    "    print(r)"
   ]
  },
  {
   "cell_type": "code",
   "execution_count": 24,
   "metadata": {},
   "outputs": [
    {
     "name": "stdout",
     "output_type": "stream",
     "text": [
      "*********\n",
      "* ** ** *\n",
      "*********\n",
      "***   ***\n",
      "* *   * *\n",
      "***   ***\n",
      "*********\n",
      "* ** ** *\n",
      "*********\n"
     ]
    }
   ],
   "source": [
    "n = 9\n",
    "board = [[\" \" for _ in range(n)] for _ in range(n)]\n",
    "\n",
    "def func(n, x, y): ## 3, 0, 0\n",
    "    if n == 1:\n",
    "        board[x][y] = \"*\"\n",
    "        return\n",
    "    \n",
    "    div = n // 3 ## n = 1\n",
    "    for i in range(3):\n",
    "        for j in range(3):\n",
    "            if i == 1 and j == 1:\n",
    "                continue\n",
    "\n",
    "            func(div, x + i * div, y + j * div) ## 1, 0, 0\n",
    "\n",
    "func(n, 0, 0)\n",
    "for row in board:\n",
    "    print(''.join(row))"
   ]
  },
  {
   "cell_type": "code",
   "execution_count": null,
   "metadata": {},
   "outputs": [],
   "source": []
  }
 ],
 "metadata": {
  "kernelspec": {
   "display_name": "base",
   "language": "python",
   "name": "python3"
  },
  "language_info": {
   "codemirror_mode": {
    "name": "ipython",
    "version": 3
   },
   "file_extension": ".py",
   "mimetype": "text/x-python",
   "name": "python",
   "nbconvert_exporter": "python",
   "pygments_lexer": "ipython3",
   "version": "3.9.13"
  }
 },
 "nbformat": 4,
 "nbformat_minor": 2
}
