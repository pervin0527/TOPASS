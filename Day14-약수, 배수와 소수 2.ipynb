{
 "cells": [
  {
   "cell_type": "code",
   "execution_count": null,
   "metadata": {},
   "outputs": [],
   "source": [
    "## https://www.acmicpc.net/problem/1934\n",
    "\n",
    "T = int(input())\n",
    "for _ in range(T):\n",
    "    A, B = map(int, input().split())\n",
    "\n",
    "    head = A * B\n",
    "    ## 유클리드 호제법. -> 두 수의 곱 / 두 수의 최대공약수\n",
    "    while A % B != 0:\n",
    "        A, B = B, A % B\n",
    "    tail = B\n",
    "\n",
    "    print(head // tail)\n",
    "\n"
   ]
  },
  {
   "cell_type": "code",
   "execution_count": null,
   "metadata": {},
   "outputs": [],
   "source": [
    "## https://www.acmicpc.net/problem/13241\n",
    "\n",
    "A, B = map(int, input().split())\n",
    "\n",
    "head = A * B\n",
    "## 유클리드 호제법. -> 두 수의 곱 / 두 수의 최대공약수\n",
    "while A % B != 0:\n",
    "    A, B = B, A % B\n",
    "tail = B\n",
    "\n",
    "print(head // tail)"
   ]
  },
  {
   "cell_type": "code",
   "execution_count": null,
   "metadata": {},
   "outputs": [],
   "source": [
    "## https://www.acmicpc.net/problem/1735\n",
    "\n",
    "def gcd(A, B):\n",
    "    while A % B != 0:\n",
    "        A, B = B, A%B\n",
    "\n",
    "    return B\n",
    "\n",
    "h1, t1= map(int, input().split())\n",
    "h2, t2 = map(int, input().split())\n",
    "\n",
    "## 분수의 합.\n",
    "## 분모가 서로 다른 경우 통분한다.\n",
    "if t1 != t2:\n",
    "    t3 = t1 * t2\n",
    "    h1 *= (t3 // t1)\n",
    "    h2 *= (t3 // t2)\n",
    "else:\n",
    "    t3 = t1\n",
    "\n",
    "h3 = h1 + h2\n",
    "\n",
    "## 기약 분수는 분모, 분자의 최대 공약수로 나눈 값.\n",
    "res_h = h3 // gcd(h3, t3)\n",
    "res_t = t3 // gcd(h3, t3)\n",
    "print(res_h, res_t)"
   ]
  },
  {
   "cell_type": "code",
   "execution_count": null,
   "metadata": {},
   "outputs": [],
   "source": [
    "## https://www.acmicpc.net/problem/2485\n",
    "import sys\n",
    "\n",
    "def gcd(A, B):\n",
    "    while A % B != 0:\n",
    "        A, B = B, A%B\n",
    "\n",
    "    return B\n",
    "\n",
    "n = int(sys.stdin.readline())\n",
    "a = int(sys.stdin.readline())\n",
    "\n",
    "intervals = []\n",
    "for _ in range(n - 1):\n",
    "    interval = int(input())\n",
    "    intervals.append(int(input()) - a)\n",
    "    a = interval\n",
    "\n",
    "g = A[0]\n",
    "for idx in range(1, len(intervals)):\n",
    "    g = gcd(g, A[idx])\n",
    "\n",
    "res = 0\n",
    "for interval in intervals:\n",
    "    res += interval // g - 1\n",
    "\n",
    "print(res)"
   ]
  },
  {
   "cell_type": "code",
   "execution_count": null,
   "metadata": {},
   "outputs": [],
   "source": [
    "## https://www.acmicpc.net/problem/4134\n",
    "\"\"\"\n",
    "정수론을 이용하는 문제. 양의 정수 M이 합성수(1과 자신외 다른 약수를 가진 양의 정수)인 경우\n",
    "M은 두 개의 자연수이자 약수 a, b의 곱으로 표현될 수 있으므로 sqrt(M)보다 작거나 같은 약수를 반드시 가지고 있다.\n",
    "\"\"\"\n",
    "import sys\n",
    "\n",
    "def is_prime(n):\n",
    "    # for i in range(2, n // 2 + 1):\n",
    "    for i in range(2, int(n ** 0.5)+1):\n",
    "        if n % i == 0:\n",
    "            return False ## \n",
    "    \n",
    "    return True\n",
    "\n",
    "n = int(sys.stdin.readline())\n",
    "\n",
    "for _ in range(n):\n",
    "    tmp = int(sys.stdin.readline())\n",
    "\n",
    "    ## tmp와 같거나 큰 소수들 중 최소값.\n",
    "    while True:\n",
    "        if tmp == 0 or tmp == 1:\n",
    "            print(2)\n",
    "            break\n",
    "            \n",
    "        if is_prime(tmp):\n",
    "            print(tmp)\n",
    "            break\n",
    "        else:\n",
    "            tmp += 1"
   ]
  },
  {
   "cell_type": "code",
   "execution_count": 36,
   "metadata": {},
   "outputs": [
    {
     "name": "stdout",
     "output_type": "stream",
     "text": [
      "5\n",
      "7\n",
      "11\n",
      "13\n"
     ]
    }
   ],
   "source": [
    "## https://www.acmicpc.net/problem/1929\n",
    "\n",
    "N, M = map(int, input().split())\n",
    "\n",
    "primes = [True] * (M + 1)\n",
    "primes[0], primes[1] = False, False\n",
    "\n",
    "for i in range(2, int(M ** 0.5) + 1):\n",
    "    if primes[i]:\n",
    "        for j in range(i * 2, M + 1, i):\n",
    "            primes[j] = False\n",
    "\n",
    "for i in range(N, M + 1):\n",
    "    if primes[i]:\n",
    "        print(i)"
   ]
  },
  {
   "cell_type": "code",
   "execution_count": null,
   "metadata": {},
   "outputs": [],
   "source": []
  }
 ],
 "metadata": {
  "kernelspec": {
   "display_name": "base",
   "language": "python",
   "name": "python3"
  },
  "language_info": {
   "codemirror_mode": {
    "name": "ipython",
    "version": 3
   },
   "file_extension": ".py",
   "mimetype": "text/x-python",
   "name": "python",
   "nbconvert_exporter": "python",
   "pygments_lexer": "ipython3",
   "version": "3.9.13"
  }
 },
 "nbformat": 4,
 "nbformat_minor": 2
}
