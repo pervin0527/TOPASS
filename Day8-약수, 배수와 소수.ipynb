{
 "cells": [
  {
   "cell_type": "markdown",
   "metadata": {},
   "source": [
    "[https://www.acmicpc.net/problem/5086](https://www.acmicpc.net/problem/5086)\n",
    "\n",
    "ab = c 일 때(a, b, c는 정수)\n",
    "- c는 a, b의 배수\n",
    "- a, b는 c의 약수\n",
    "\n",
    "따라서 배수 관계인 경우 c % a == 0이되고, 약수 관계인 경우 a % c == 0이된다."
   ]
  },
  {
   "cell_type": "code",
   "execution_count": 4,
   "metadata": {},
   "outputs": [
    {
     "name": "stdout",
     "output_type": "stream",
     "text": [
      "factor\n",
      "multiple\n",
      "neither\n"
     ]
    }
   ],
   "source": [
    "while True:\n",
    "    a, b = map(int, input().split())\n",
    "    if a == 0 and b == 0:\n",
    "        break\n",
    "    \n",
    "    if b % a == 0:\n",
    "        print(\"factor\")\n",
    "    elif a % b == 0:\n",
    "        print(\"multiple\")\n",
    "    else:\n",
    "        print(\"neither\")"
   ]
  },
  {
   "cell_type": "markdown",
   "metadata": {},
   "source": [
    "[https://www.acmicpc.net/problem/2501](https://www.acmicpc.net/problem/2501)"
   ]
  },
  {
   "cell_type": "code",
   "execution_count": 9,
   "metadata": {},
   "outputs": [
    {
     "name": "stdout",
     "output_type": "stream",
     "text": [
      "1\n"
     ]
    }
   ],
   "source": [
    "N, K = map(int, input().split())\n",
    "\n",
    "for i in range(1, N+1):\n",
    "    if N % i == 0:\n",
    "        K -= 1\n",
    "    \n",
    "    if K == 0:\n",
    "        print(i)\n",
    "        break\n",
    "else:\n",
    "    print(0)"
   ]
  },
  {
   "cell_type": "markdown",
   "metadata": {},
   "source": [
    "[https://www.acmicpc.net/problem/9506](https://www.acmicpc.net/problem/9506)"
   ]
  },
  {
   "cell_type": "code",
   "execution_count": 12,
   "metadata": {},
   "outputs": [
    {
     "name": "stdout",
     "output_type": "stream",
     "text": [
      "6 = 1 + 2 + 3\n",
      "12 is NOT perfect.\n",
      "28 = 1 + 2 + 4 + 7 + 14\n"
     ]
    }
   ],
   "source": [
    "while True:\n",
    "    n = int(input())\n",
    "\n",
    "    if n == -1:\n",
    "        break\n",
    "\n",
    "    factors = []\n",
    "    for i in range(1, n):\n",
    "        if n % i == 0:\n",
    "            factors.append(i)\n",
    "    \n",
    "    res = f\"{n} = \"\n",
    "    if sum(factors) == n:\n",
    "        for idx, i in enumerate(factors):\n",
    "            if idx+1 < len(factors):\n",
    "                res += f\"{i} + \"\n",
    "            else:\n",
    "                res += f\"{i}\"\n",
    "    else:\n",
    "        res = f\"{n} is NOT perfect.\"\n",
    "\n",
    "    print(res)"
   ]
  },
  {
   "cell_type": "markdown",
   "metadata": {},
   "source": [
    "[https://www.acmicpc.net/problem/1978](https://www.acmicpc.net/problem/1978)"
   ]
  },
  {
   "cell_type": "code",
   "execution_count": 14,
   "metadata": {},
   "outputs": [
    {
     "name": "stdout",
     "output_type": "stream",
     "text": [
      "3\n"
     ]
    }
   ],
   "source": [
    "N = int(input())\n",
    "numbers = map(int, input().split())\n",
    "\n",
    "counter = 0\n",
    "for n in numbers:\n",
    "    if n > 1:\n",
    "        for i in range(2, n): ## 1과 자기 자신은 약수로 포함하니까 나눗셈 대상에서 제외한다.\n",
    "            if n % i == 0:\n",
    "                break\n",
    "        else:\n",
    "            counter += 1\n",
    "\n",
    "print(counter)"
   ]
  },
  {
   "cell_type": "markdown",
   "metadata": {},
   "source": [
    "[https://www.acmicpc.net/problem/2581](https://www.acmicpc.net/problem/2581)"
   ]
  },
  {
   "cell_type": "code",
   "execution_count": 23,
   "metadata": {},
   "outputs": [
    {
     "name": "stdout",
     "output_type": "stream",
     "text": [
      "-1\n"
     ]
    }
   ],
   "source": [
    "M = int(input())\n",
    "N = int(input())\n",
    "\n",
    "## 1일 때를 제외 시켜줘야 한다.\n",
    "if M == 1:\n",
    "    M = 2\n",
    "\n",
    "targets = []\n",
    "for number in range(M, N+1):\n",
    "    is_prime = True\n",
    "    for i in range(2, int(number**0.5) + 1):\n",
    "        if number % i == 0:\n",
    "            is_prime = False\n",
    "            break\n",
    "    if is_prime:\n",
    "        targets.append(number)\n",
    "\n",
    "if len(targets) == 0:\n",
    "    print(-1)\n",
    "else:\n",
    "    print(sum(targets))\n",
    "    print(min(targets))"
   ]
  },
  {
   "cell_type": "markdown",
   "metadata": {},
   "source": [
    "[https://www.acmicpc.net/problem/11653](https://www.acmicpc.net/problem/11653)"
   ]
  },
  {
   "cell_type": "code",
   "execution_count": 33,
   "metadata": {},
   "outputs": [
    {
     "name": "stdout",
     "output_type": "stream",
     "text": [
      "97\n",
      "103\n"
     ]
    }
   ],
   "source": [
    "N = int(input())\n",
    "\n",
    "if N != 1:\n",
    "    div = 2\n",
    "    result = []\n",
    "    while N != 1:\n",
    "        if N % div == 0:\n",
    "            N //= div\n",
    "            result.append(div)\n",
    "        else:\n",
    "            div += 1\n",
    "\n",
    "    for r in result:\n",
    "        print(r)"
   ]
  }
 ],
 "metadata": {
  "kernelspec": {
   "display_name": "base",
   "language": "python",
   "name": "python3"
  },
  "language_info": {
   "codemirror_mode": {
    "name": "ipython",
    "version": 3
   },
   "file_extension": ".py",
   "mimetype": "text/x-python",
   "name": "python",
   "nbconvert_exporter": "python",
   "pygments_lexer": "ipython3",
   "version": "3.9.0"
  }
 },
 "nbformat": 4,
 "nbformat_minor": 2
}
